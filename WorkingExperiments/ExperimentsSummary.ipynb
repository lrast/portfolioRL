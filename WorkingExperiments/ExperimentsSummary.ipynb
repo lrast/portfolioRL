{
 "cells": [
  {
   "cell_type": "markdown",
   "id": "44532d71-0c09-46d5-840e-3b3b209056d7",
   "metadata": {},
   "source": [
    "## Pure Policy Learning with REINFORCE\n",
    "\n",
    "This required iteration. The major experimental sweeps that I performed are\n",
    "\n",
    "### Experimental Sweeps:\n",
    "\n",
    "| Summary | Learner | Parameter Range | Directory |\n",
    "| --- | --- | --- | --- |\n",
    "| Initial learner | `PolicyLearning` | Small $\\mu \\sim [ 10^{-3}, 10^{-1}]$ | `lightning_logs/dynamicSweep_mean*` |\n",
    "| Learning constant policies | `ConstantLearner` | Small $\\mu \\sim [ 10^{-3}, 10^{-1}]$ | `lightning_logs/constantLearnerSweep/` |\n",
    "| Impact of multiplying utility by a constant | `ConstantLearner`| Small $\\mu \\sim [ 10^{-3}, 10^{-1}]$, 1000x utility | `lightning_logs/constantLearner_biggerUtilSweep/` |\n",
    "| Model with a baseline, natural gradient descent, time-dependent learner | `BetaDistributionLearner` |  Small $\\mu \\sim [ 10^{-3}, 10^{-1}]$ |  `lightning_logs/LowParamsTestSweep`|\n",
    "| Baseline, natural-grad with large parameters | `BetaDistributionLearner`  |  Large $\\mu \\sim [10^{-1}, 4 ]$ | `lightning_logs/naturalGradLargeSweep/` |\n",
    "| Baseline, natural-grad, constant learner| `ConstantBDLearner` |  Medium, $\\mu \\sim [5 * 10^{-2}, 5*10^-1 ]$ | `lightning_logs/MediumParamsConstantNaturalGradSweep/` |\n",
    "\n"
   ]
  },
  {
   "cell_type": "code",
   "execution_count": null,
   "id": "6d8bccc7-fbd1-4e52-b94b-5ad45a96802a",
   "metadata": {},
   "outputs": [],
   "source": []
  }
 ],
 "metadata": {
  "kernelspec": {
   "display_name": "Python 3",
   "language": "python",
   "name": "python3"
  },
  "language_info": {
   "codemirror_mode": {
    "name": "ipython",
    "version": 3
   },
   "file_extension": ".py",
   "mimetype": "text/x-python",
   "name": "python",
   "nbconvert_exporter": "python",
   "pygments_lexer": "ipython3",
   "version": "3.9.16"
  }
 },
 "nbformat": 4,
 "nbformat_minor": 5
}
