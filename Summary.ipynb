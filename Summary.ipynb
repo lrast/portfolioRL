{
 "cells": [
  {
   "cell_type": "markdown",
   "id": "880fae43-7624-4d32-a95b-9e2c3f2d0e05",
   "metadata": {},
   "source": [
    "# Policy learning for optimal portfolio allocation.\n",
    "\n",
    "### Task:\n",
    "The learner is given two assets, one risk-free and the other risky but with greater reward, which evolves according to a geometric Brownian motion. The objective is to allocate money between these two assets in order to get the greatest average utility, where the agent's utility is a concave function of the reward that they receive.\n",
    "\n",
    "### Theory:\n",
    "The concave utility function ensures that the agent is risk-averse, so the optimial allocation will vary between 0% and 100% depending on the average and variance of the returns. Generally, this optimal allocation will depend on the time remaining, which scales the mean and variance of the reward, as well as on the wealth of the agent, which determines the its risk tolerance. Here, I use the square-root and logarithm of the reward as utility functions, with the unexpected (but in hindsight clear) result that there is no wealth effect. See the notebook `WorkingExperiments/Experiments1-theoryResults.ipynb`\n",
    "\n",
    "### Learner:\n",
    "The agent is allowed to allocate any fraction of their portfolio to the risky vs risk-free asset at a series of discrete time-points. This is a continuous action space, which restricts the types of reinforcement learning agents we can use.\n"
   ]
  },
  {
   "cell_type": "code",
   "execution_count": null,
   "id": "0095fd64-14a3-468b-9188-2661ab43980e",
   "metadata": {},
   "outputs": [],
   "source": []
  },
  {
   "cell_type": "code",
   "execution_count": null,
   "id": "8919be5b-3600-407d-9d77-bd707f96e6a9",
   "metadata": {},
   "outputs": [],
   "source": []
  }
 ],
 "metadata": {
  "kernelspec": {
   "display_name": "Python 3",
   "language": "python",
   "name": "python3"
  },
  "language_info": {
   "codemirror_mode": {
    "name": "ipython",
    "version": 3
   },
   "file_extension": ".py",
   "mimetype": "text/x-python",
   "name": "python",
   "nbconvert_exporter": "python",
   "pygments_lexer": "ipython3",
   "version": "3.9.16"
  }
 },
 "nbformat": 4,
 "nbformat_minor": 5
}
