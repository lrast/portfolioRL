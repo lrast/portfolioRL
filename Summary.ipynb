{
 "cells": [
  {
   "cell_type": "markdown",
   "id": "880fae43-7624-4d32-a95b-9e2c3f2d0e05",
   "metadata": {},
   "source": [
    "# Policy learning for optimal portfolio allocation.\n",
    "\n",
    "### Task:\n",
    "The learner is given two assets, one risk-free and the other risky but with greater reward, which evolves according to a geometric Brownian motion. The objective is to allocate money between these two assets in order to get the greatest average utility, where the agent's utility is a concave function of the reward that they receive.\n",
    "\n",
    "### Theory:\n",
    "The concave utility function ensures that the agent is risk-averse, so the optimial allocation will vary between 0% and 100% depending on the average and variance of the returns. Generally, this optimal allocation will depend on the time remaining, which scales the mean and variance of the reward, as well as on the wealth of the agent, which determines the its risk tolerance. Here, I use the square-root and logarithm of the reward as utility functions, with the unexpected (but in hindsight clear) result that there is no wealth effect. See the notebook `WorkingExperiments/Experiments1-theoryResults.ipynb`\n",
    "\n",
    "### Learning:\n",
    "\n",
    "The agent is allowed to allocate any fraction of their portfolio to the risky vs risk-free asset.\n"
   ]
  },
  {
   "cell_type": "code",
   "execution_count": null,
   "id": "7a3642a1-76f2-4f5e-86b4-5d1df08e4ad0",
   "metadata": {},
   "outputs": [],
   "source": []
  },
  {
   "cell_type": "code",
   "execution_count": null,
   "id": "f4e1afa3-449b-4499-9151-ff2bae137df0",
   "metadata": {},
   "outputs": [],
   "source": []
  },
  {
   "cell_type": "markdown",
   "id": "2eb7e210-cea1-4664-9b7f-a27a50487a65",
   "metadata": {},
   "source": []
  },
  {
   "cell_type": "code",
   "execution_count": null,
   "id": "1fc9bbdc-d698-4b14-a68b-73dffb3fb6a5",
   "metadata": {},
   "outputs": [],
   "source": []
  }
 ],
 "metadata": {
  "kernelspec": {
   "display_name": "Python 3",
   "language": "python",
   "name": "python3"
  },
  "language_info": {
   "codemirror_mode": {
    "name": "ipython",
    "version": 3
   },
   "file_extension": ".py",
   "mimetype": "text/x-python",
   "name": "python",
   "nbconvert_exporter": "python",
   "pygments_lexer": "ipython3",
   "version": "3.9.16"
  }
 },
 "nbformat": 4,
 "nbformat_minor": 5
}
