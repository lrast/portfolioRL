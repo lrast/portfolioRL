{
 "cells": [
  {
   "cell_type": "markdown",
   "id": "a8fd7ab4",
   "metadata": {},
   "source": [
    "# Running through results from the theory to determine the relevant parameter regimes"
   ]
  },
  {
   "cell_type": "code",
   "execution_count": 2,
   "id": "662d8cad",
   "metadata": {},
   "outputs": [],
   "source": [
    "import matplotlib as mpl\n",
    "import matplotlib.pyplot as plt\n",
    "%matplotlib inline\n",
    "from IPython.core.pylabtools import figsize\n",
    "\n",
    "from ipywidgets import widgets\n",
    "from IPython.display import display\n",
    "\n",
    "import numpy as np\n",
    "import pandas as pd\n",
    "import seaborn as sns"
   ]
  },
  {
   "cell_type": "markdown",
   "id": "28ef686d",
   "metadata": {},
   "source": [
    " This theory is well characterized in microeconomics. First, for the record, the risk sensitivity generally does depend on the level of wealth. The _Arrow-Pratt coefficient of risk aversion_ is defined as\n",
    "$$\n",
    " A(x) = - \\frac{u''(x)}{u'(x)}\n",
    "$$\n",
    "\n",
    "which can evidently vary with wealth. I may return to this coefficient later.\n",
    "\n",
    "Using an expected utility form, the portfolio allocation problem is:\n",
    "$$\n",
    "    \\max_{0 \\le r \\le 1} \\int u \\big( (1-r)w + rwz \\big) p(z) dz\n",
    "$$\n",
    "\n",
    "where $w$ is wealth, $r$ is the fraction allocated to the risky asset, and $z$ is the fold-change in the risky asset value.\n",
    "\n",
    "Sampling $z$, we can find approximate solutions by optimizing. This has fairly large variance in the solutions that we find, but it's good enough for the purposes of characterization.\n"
   ]
  },
  {
   "cell_type": "markdown",
   "id": "960ae10c",
   "metadata": {},
   "source": [
    "### The objective here is to find a parameter regime in which the optimal solutions vary over a reasonable range\n",
    "\n",
    "There are two sources of variance in the solutions: changes in wealth, and changes in the amount of time remaining. Do the changes in remaining time matter? "
   ]
  },
  {
   "cell_type": "code",
   "execution_count": 4,
   "id": "e648a617",
   "metadata": {},
   "outputs": [],
   "source": [
    "from groundTruth import findBestAction, findBestAction_determ"
   ]
  },
  {
   "cell_type": "code",
   "execution_count": 8,
   "id": "2fb8762c",
   "metadata": {},
   "outputs": [
    {
     "data": {
      "text/plain": [
       "     fun: -85.93459877923233\n",
       "     jac: array([-8.39233398e-05])\n",
       " message: 'Optimization terminated successfully'\n",
       "    nfev: 10\n",
       "     nit: 5\n",
       "    njev: 5\n",
       "  status: 0\n",
       " success: True\n",
       "       x: array([0.20587542])"
      ]
     },
     "execution_count": 8,
     "metadata": {},
     "output_type": "execute_result"
    }
   ],
   "source": [
    "findBestAction(0.008, 0.2, 1., np.log)"
   ]
  },
  {
   "cell_type": "code",
   "execution_count": 12,
   "id": "891b9250",
   "metadata": {
    "deletable": false,
    "editable": false,
    "run_control": {
     "frozen": true
    }
   },
   "outputs": [
    {
     "name": "stdout",
     "output_type": "stream",
     "text": [
      "0\n",
      "100\n",
      "200\n",
      "300\n",
      "400\n",
      "500\n",
      "600\n",
      "700\n",
      "800\n",
      "900\n"
     ]
    }
   ],
   "source": [
    "base = []\n",
    "scaled2 = []\n",
    "scaled3 = []\n",
    "\n",
    "for samples in range(1000):\n",
    "    base.append(findBestAction(0.008, 0.2, 1., np.log).x[0] )\n",
    "    scaled2.append( findBestAction(0.008*4, 0.2*2, 1., np.log).x[0] )\n",
    "    scaled3.append( findBestAction(0.008*9, 0.2*3, 1., np.log).x[0] )\n",
    "    \n",
    "    if samples % 100==0:\n",
    "        print(samples)\n",
    "\n",
    "base = np.array(base)\n",
    "scaled2 = np.array(scaled2)\n",
    "scaled3 = np.array(scaled3)"
   ]
  },
  {
   "cell_type": "code",
   "execution_count": 25,
   "id": "8ee7f6df",
   "metadata": {
    "deletable": false,
    "editable": false,
    "run_control": {
     "frozen": true
    }
   },
   "outputs": [
    {
     "name": "stdout",
     "output_type": "stream",
     "text": [
      "Base: 0.19826708630417744 +- 1.575516072896693e-05\n",
      "scaled2: 0.1929299527499124 +- 8.20804573133972e-06\n",
      "scaled3: 0.18472148970403215 +- 5.671510167585498e-06\n"
     ]
    }
   ],
   "source": [
    "print('Base: {mean} +- {sem}'.format(**{'mean': base.mean(), 'sem': base.std()/len(base) }))\n",
    "print('scaled2: {mean} +- {sem}'.format(**{'mean': scaled2.mean(), 'sem': scaled2.std()/len(base) }))\n",
    "print('scaled3: {mean} +- {sem}'.format(**{'mean': scaled3.mean(), 'sem': scaled3.std()/len(base) }))"
   ]
  },
  {
   "cell_type": "code",
   "execution_count": 31,
   "id": "9ddc77fb",
   "metadata": {
    "deletable": false,
    "editable": false,
    "run_control": {
     "frozen": true
    }
   },
   "outputs": [
    {
     "name": "stdout",
     "output_type": "stream",
     "text": [
      "Ttest_indResult(statistic=9.495641498441845, pvalue=8.26370538188007e-21)\n",
      "Ttest_indResult(statistic=25.56811767236117, pvalue=2.184732434660149e-116)\n",
      "Ttest_indResult(statistic=-26.00459198425001, pvalue=1.3535331868868796e-126)\n"
     ]
    }
   ],
   "source": [
    "from scipy.stats import ttest_ind\n",
    "\n",
    "print( ttest_ind(base, scaled2, equal_var=False) )\n",
    "print( ttest_ind(base, scaled3, equal_var=False) )\n",
    "print( ttest_ind(scaled3, scaled2, equal_var=False) )"
   ]
  },
  {
   "cell_type": "markdown",
   "id": "4ce4e011",
   "metadata": {},
   "source": [
    "Ok, so for the log objective function, there is a small but significant difference in the optimal actions at different times"
   ]
  },
  {
   "cell_type": "code",
   "execution_count": 34,
   "id": "df0a49e7",
   "metadata": {
    "deletable": false,
    "editable": false,
    "run_control": {
     "frozen": true
    }
   },
   "outputs": [
    {
     "name": "stdout",
     "output_type": "stream",
     "text": [
      "0\n",
      "100\n",
      "200\n",
      "300\n",
      "400\n",
      "500\n",
      "600\n",
      "700\n",
      "800\n",
      "900\n"
     ]
    }
   ],
   "source": [
    "base = []\n",
    "scaled2 = []\n",
    "scaled3 = []\n",
    "\n",
    "for samples in range(1000):\n",
    "    base.append(findBestAction(0.008, 0.2, 1., np.sqrt).x[0] )\n",
    "    scaled2.append( findBestAction(0.008*4, 0.2*2, 1., np.sqrt).x[0] )\n",
    "    scaled3.append( findBestAction(0.008*9, 0.2*3, 1., np.sqrt).x[0] )\n",
    "    \n",
    "    if samples % 100==0:\n",
    "        print(samples)\n",
    "\n",
    "base = np.array(base)\n",
    "scaled2 = np.array(scaled2)\n",
    "scaled3 = np.array(scaled3)"
   ]
  },
  {
   "cell_type": "code",
   "execution_count": 35,
   "id": "72000fc1",
   "metadata": {
    "deletable": false,
    "editable": false,
    "run_control": {
     "frozen": true
    }
   },
   "outputs": [
    {
     "name": "stdout",
     "output_type": "stream",
     "text": [
      "Base: 0.3986722317853587 +- 3.116367295307047e-05\n",
      "scaled2: 0.3961747878303624 +- 1.6505537173108128e-05\n",
      "scaled3: 0.39208367905965097 +- 1.1729334049028684e-05\n"
     ]
    }
   ],
   "source": [
    "print('Base: {mean} +- {sem}'.format(**{'mean': base.mean(), 'sem': base.std()/len(base) }))\n",
    "print('scaled2: {mean} +- {sem}'.format(**{'mean': scaled2.mean(), 'sem': scaled2.std()/len(base) }))\n",
    "print('scaled3: {mean} +- {sem}'.format(**{'mean': scaled3.mean(), 'sem': scaled3.std()/len(base) }))"
   ]
  },
  {
   "cell_type": "code",
   "execution_count": 36,
   "id": "104589e2",
   "metadata": {
    "deletable": false,
    "editable": false,
    "run_control": {
     "frozen": true
    }
   },
   "outputs": [
    {
     "name": "stdout",
     "output_type": "stream",
     "text": [
      "Ttest_indResult(statistic=2.2383957324377013, pvalue=0.025339679788478453)\n",
      "Ttest_indResult(statistic=6.253967256016925, pvalue=5.447918867609082e-10)\n",
      "Ttest_indResult(statistic=-6.385964905235018, pvalue=2.1614047502163774e-10)\n"
     ]
    }
   ],
   "source": [
    "from scipy.stats import ttest_ind\n",
    "\n",
    "print( ttest_ind(base, scaled2, equal_var=False) )\n",
    "print( ttest_ind(base, scaled3, equal_var=False) )\n",
    "print( ttest_ind(scaled3, scaled2, equal_var=False) )"
   ]
  },
  {
   "cell_type": "markdown",
   "id": "fa77bade",
   "metadata": {},
   "source": [
    "The difference here for square root is similarly small, and not always very significant."
   ]
  },
  {
   "cell_type": "markdown",
   "id": "0a740a18",
   "metadata": {},
   "source": [
    "### There appear to be differences, albeit small, between optimal actions at different times."
   ]
  },
  {
   "cell_type": "code",
   "execution_count": 15,
   "id": "fe7733e4",
   "metadata": {},
   "outputs": [],
   "source": [
    "def optimalAction(time, wealth, mu=0.006, sigma=0.2, utilityFn=np.sqrt):\n",
    "    return findBestAction(mu*time, sigma*time**0.5, wealth, utilityFn).x[0]\n",
    "\n",
    "\n",
    "def makeGrid(Times, Wealths, **kwargs):\n",
    "    outputs = []\n",
    "    for time, wealth in zip(Times.reshape(-1), Wealths.reshape(-1)):\n",
    "        outputs.append( optimalAction(time, wealth, **kwargs) )\n",
    "    outputs = np.array( outputs)\n",
    "    return outputs.reshape(Times.shape)\n"
   ]
  },
  {
   "cell_type": "code",
   "execution_count": 16,
   "id": "69419507",
   "metadata": {},
   "outputs": [
    {
     "data": {
      "text/plain": [
       "(0.0, 1.0)"
      ]
     },
     "execution_count": 16,
     "metadata": {},
     "output_type": "execute_result"
    },
    {
     "data": {
      "image/png": "[encoded data removed]",
      "text/plain": [
       "<Figure size 640x480 with 1 Axes>"
      ]
     },
     "metadata": {},
     "output_type": "display_data"
    }
   ],
   "source": [
    "wealths = np.linspace(0.1, 10)\n",
    "actions = []\n",
    "for wealth in wealths:\n",
    "    actions.append( optimalAction(1., wealth, mu=0.002, sigma=0.09, utilityFn=np.sqrt) );\n",
    "    \n",
    "plt.plot(wealths, actions, '.')\n",
    "plt.ylim([0,1])"
   ]
  },
  {
   "cell_type": "markdown",
   "id": "554806c7",
   "metadata": {},
   "source": [
    "### Observations:\n",
    "\n",
    "1. Large standard deviation in the geometric Brownian mostion seems to be key to achieving a reasonably smooth action curves. However, these also result in worse performance from sampling due to the large variances.\n",
    "\n",
    "2. Taking more samples results in a lot of 50% solutions to the optimization problem (above). Why would this be?\n",
    "\n",
    "3. Why does the optimal allocation _decrease_ with wealth? This is surprising.\n",
    "\n",
    "### note: the above plots have since been re-run using a bug-fixed version. See Below"
   ]
  },
  {
   "cell_type": "markdown",
   "id": "a3367beb",
   "metadata": {},
   "source": [
    "## 07/30 some answers:\n",
    "\n",
    "1. There was a bug in the ground truth solution, which I fixed, removing much of the wealth effect. This also explains the decreasing wealth effect: I wasn't paying out properly in proportion to the amount wagered. Unfortunately, I reran the above plots, so the previous effect aren't visible any more.\n",
    "\n",
    "2. I was using 50% as an initial guess, so this is probabily why many runs seem to default to that.\n",
    "\n",
    "3. Using a numerical quadrature method is a reasonable way to go to avoid sampling issues, but it does make the optimization much slower.\n",
    "\n",
    "\n",
    "Moving forward, there are two things to do.\n",
    "1. Do the RL agents find the ground truths when they are approximately constant?\n",
    "2. Is there a parameter region where the ground truths actually change a fair amount"
   ]
  },
  {
   "cell_type": "code",
   "execution_count": 38,
   "id": "45afa572",
   "metadata": {},
   "outputs": [
    {
     "data": {
      "text/plain": [
       "<Figure size 640x480 with 0 Axes>"
      ]
     },
     "metadata": {},
     "output_type": "display_data"
    }
   ],
   "source": [
    "%run groundTruth.py\n",
    "\n",
    "def optimalAction(time, wealth, mu=0.006, sigma=0.2, utilityFn=np.sqrt):\n",
    "    return findBestAction_determ(mu*time, sigma*(time**0.5), wealth, utilityFn).x[0]\n",
    "\n",
    "\n",
    "def makeGrid(Times, Wealths, **kwargs):\n",
    "    outputs = []\n",
    "    for time, wealth in zip(Times.reshape(-1), Wealths.reshape(-1)):\n",
    "        outputs.append( optimalAction(time, wealth, **kwargs) )\n",
    "    outputs = np.array( outputs)\n",
    "    return outputs.reshape(Times.shape)"
   ]
  },
  {
   "cell_type": "markdown",
   "id": "6610236e",
   "metadata": {},
   "source": [
    "## Searching for wealth effects"
   ]
  },
  {
   "cell_type": "code",
   "execution_count": 4,
   "id": "14ee328a",
   "metadata": {},
   "outputs": [
    {
     "data": {
      "text/plain": [
       "Text(0.5, 1.0, 'Normalized utility curves for different wealth levels')"
      ]
     },
     "execution_count": 4,
     "metadata": {},
     "output_type": "execute_result"
    },
    {
     "data": {
      "image/png": "[encoded data removed]",
      "text/plain": [
       "<Figure size 640x480 with 1 Axes>"
      ]
     },
     "metadata": {},
     "output_type": "display_data"
    }
   ],
   "source": [
    "# plotting utility curves to avoid the slow optimization step\n",
    "weights = np.linspace(0,1, 20)\n",
    "wealths = np.logspace(-1, 2, 10)\n",
    "\n",
    "for wealth in wealths:\n",
    "    utilityCurve = utilityCurve_determ(0.05, 0.4, wealth, lambda x: np.sqrt(x))(weights)\n",
    "    \n",
    "    plt.plot( weights, utilityCurve /np.max(utilityCurve) , label=f'{wealth}' )\n",
    "\n",
    "#plt.ylim([0,2])\n",
    "plt.title('Normalized utility curves for different wealth levels')"
   ]
  },
  {
   "cell_type": "markdown",
   "id": "49a0a67c",
   "metadata": {},
   "source": [
    "One thing to note here is that the fractional differences in utility are extremely small. This could definitely hinder the learner, which has to pick up on such small fluctuations.\n",
    "\n"
   ]
  },
  {
   "cell_type": "code",
   "execution_count": 44,
   "id": "a946885b",
   "metadata": {},
   "outputs": [
    {
     "data": {
      "text/plain": [
       "Text(0.5, 1.0, 'Normalized Utility Curves - large mu and sigma')"
      ]
     },
     "execution_count": 44,
     "metadata": {},
     "output_type": "execute_result"
    },
    {
     "data": {
      "image/png": "[encoded data removed]",
      "text/plain": [
       "<Figure size 640x480 with 1 Axes>"
      ]
     },
     "metadata": {},
     "output_type": "display_data"
    }
   ],
   "source": [
    "weights = np.linspace(0,1, 25)\n",
    "utilityCurve1 = utilityCurve_determ(1., 1.8, 1, np.sqrt)(weights)\n",
    "utilityCurve2 = utilityCurve_determ(1.*4, 1.8*2, 1, np.sqrt)(weights)\n",
    "utilityCurve3 = utilityCurve_determ(1.*9, 1.8*3, 1, np.sqrt)(weights)\n",
    "\n",
    "plt.plot( weights, utilityCurve1 / np.max(utilityCurve1), '.', label=f'{wealth}')\n",
    "plt.plot( weights, utilityCurve2 / np.max(utilityCurve2), '.', label=f'{wealth}')\n",
    "plt.plot( weights, utilityCurve3 / np.max(utilityCurve3), '.', label=f'{wealth}')\n",
    "\n",
    "plt.title('Normalized Utility Curves - large mu and sigma')"
   ]
  },
  {
   "cell_type": "code",
   "execution_count": 45,
   "id": "c0aec223",
   "metadata": {},
   "outputs": [
    {
     "name": "stdout",
     "output_type": "stream",
     "text": [
      "time 1:  0.6771100110432595\n",
      "time 4:  0.7843515643698837\n"
     ]
    },
    {
     "name": "stderr",
     "output_type": "stream",
     "text": [
      "/Users/luke/Documents/researchProjects/portfolioRL/groundTruth.py:37: IntegrationWarning: The maximum number of subdivisions (50) has been achieved.\n",
      "  If increasing the limit yields no improvement it is advised to analyze \n",
      "  the integrand in order to determine the difficulties.  If the position of a \n",
      "  local difficulty can be determined (singularity, discontinuity) one will \n",
      "  probably gain from splitting up the interval and calling the integrator \n",
      "  on the subranges.  Perhaps a special-purpose integrator should be used.\n",
      "  return -quad(toIntegrate, 0., np.inf)[0]  # negative to minimize\n",
      "/Users/luke/Documents/researchProjects/portfolioRL/groundTruth.py:33: RuntimeWarning: invalid value encountered in sqrt\n",
      "  utilityVal = utilityFn((1-weight)*initialVal +\n"
     ]
    },
    {
     "name": "stdout",
     "output_type": "stream",
     "text": [
      "time 9:  0.9999999999999998\n"
     ]
    }
   ],
   "source": [
    "print('time 1: ', optimalAction(1., 1., mu=1., sigma=1.8, utilityFn=np.sqrt) )\n",
    "print('time 4: ', optimalAction(4., 1., mu=1., sigma=1.8, utilityFn=np.sqrt) )\n",
    "print('time 9: ', optimalAction(9., 1., mu=1., sigma=1.8, utilityFn=np.sqrt) )"
   ]
  },
  {
   "cell_type": "markdown",
   "id": "225c54ff",
   "metadata": {},
   "source": [
    "### The last one is wrong, highlighting the difficulties with using large mu and sigma. \n",
    "\n",
    "However, the utility curves also have a much greater dynamic range when the mu and sigma are large.\n",
    "\n",
    "Also, a time effect starts to appear! One which makes a great deal of sense: more time, more risky allocation.\n",
    "\n",
    "### This shows an interesting trade-off for learners.\n",
    "\n",
    " - There is a tradeoff between _effect-size_, and _noise level_. The models with larger mu, sigma have bigger effects but are much noisier, and therefore harder to sample."
   ]
  },
  {
   "cell_type": "code",
   "execution_count": 41,
   "id": "2eb0328e",
   "metadata": {},
   "outputs": [
    {
     "data": {
      "text/plain": [
       "Text(0.5, 1.0, 'Normalized utility curves for different wealth levels')"
      ]
     },
     "execution_count": 41,
     "metadata": {},
     "output_type": "execute_result"
    },
    {
     "data": {
      "image/png": "[encoded data removed]",
      "text/plain": [
       "<Figure size 640x480 with 1 Axes>"
      ]
     },
     "metadata": {},
     "output_type": "display_data"
    }
   ],
   "source": [
    "# plotting utility curves to avoid the slow optimization step\n",
    "weights = np.linspace(0,1, 20)\n",
    "wealths = np.logspace(-1, 4, 10)\n",
    "\n",
    "for wealth in wealths:\n",
    "    utilityCurve = utilityCurve_determ(4., 2*1.8, wealth, lambda x: np.sqrt(x))(weights)\n",
    "    \n",
    "    plt.plot( weights, utilityCurve /np.max(utilityCurve) , label=f'{wealth}' )\n",
    "\n",
    "#plt.ylim([0,2])\n",
    "plt.title('Normalized utility curves for different wealth levels')"
   ]
  },
  {
   "cell_type": "markdown",
   "id": "9351c189",
   "metadata": {},
   "source": [
    "Still no wealth effect, however..."
   ]
  },
  {
   "cell_type": "markdown",
   "id": "2f6f1477-5dc5-45c8-88a3-a77a66a16cf3",
   "metadata": {},
   "source": [
    "### Some of the theoretical results that I'm seeing don't make sense to me\n",
    "1. The lack of wealth effect is strange. In particular, with a time effect, I would expect the two to balance out, for example if I achieve the average return in a single time step, the optimal allocation may remain unchanged.\n",
    "\n",
    "2. The direction of the time effect differs with the size of the mean and variance. See below, for small mean and variance, optimal allocation decreases with time remaining, vice-versa for large. This could also depend on the relative contribution of the mean and variance.\n"
   ]
  },
  {
   "cell_type": "code",
   "execution_count": 19,
   "id": "9385a91d-7e1e-4826-bca2-98cddeecea86",
   "metadata": {},
   "outputs": [
    {
     "name": "stdout",
     "output_type": "stream",
     "text": [
      "Small mean and variance, increasing time remaining\n",
      "[0.31727411]\n",
      "[0.31495428]\n",
      "[0.30953226]\n"
     ]
    }
   ],
   "source": [
    "from groundTruth import findBestAction_determ, findBestAction\n",
    "print('Small mean and variance, increasing time remaining')\n",
    "\n",
    "print( findBestAction_determ(0.01, 0.25, 1., np.sqrt).x )\n",
    "print( findBestAction_determ(0.01*2, 0.25*(2**0.5), 1., np.sqrt).x )\n",
    "print( findBestAction_determ(0.01*4, 0.25*(4**0.5), 1., np.sqrt).x )"
   ]
  },
  {
   "cell_type": "code",
   "execution_count": 15,
   "id": "d37e5e3c-6436-4906-985a-f126b97e0163",
   "metadata": {},
   "outputs": [
    {
     "name": "stdout",
     "output_type": "stream",
     "text": [
      "Large mean and variance, increasing time remaining\n",
      "1 [0.67711001]\n",
      "2 [0.71893472]\n",
      "4 [0.78435156]\n"
     ]
    }
   ],
   "source": [
    "print('Large mean and variance, increasing time remaining')\n",
    "\n",
    "print(1, findBestAction_determ(1., 1.8, 1., np.sqrt).x )\n",
    "print(2, findBestAction_determ(1.*2, 1.8*(2**0.5), 1., np.sqrt).x )\n",
    "print(4, findBestAction_determ(1.*4, 1.8*(4**0.5), 1., np.sqrt).x )"
   ]
  },
  {
   "cell_type": "code",
   "execution_count": null,
   "id": "3f4e1127-267e-429b-a559-d6481dd40bb5",
   "metadata": {},
   "outputs": [],
   "source": []
  },
  {
   "cell_type": "code",
   "execution_count": null,
   "id": "737e1245-a1e7-4480-a053-d5d1a2651abd",
   "metadata": {},
   "outputs": [],
   "source": []
  }
 ],
 "metadata": {
  "kernelspec": {
   "display_name": "Python 3",
   "language": "python",
   "name": "python3"
  },
  "language_info": {
   "codemirror_mode": {
    "name": "ipython",
    "version": 3
   },
   "file_extension": ".py",
   "mimetype": "text/x-python",
   "name": "python",
   "nbconvert_exporter": "python",
   "pygments_lexer": "ipython3",
   "version": "3.9.16"
  }
 },
 "nbformat": 4,
 "nbformat_minor": 5
}
