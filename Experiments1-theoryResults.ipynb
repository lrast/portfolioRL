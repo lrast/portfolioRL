{
 "cells": [
  {
   "cell_type": "markdown",
   "id": "a8fd7ab4",
   "metadata": {},
   "source": [
    "# Running through results from the theory to determine the relevant parameter regimes"
   ]
  },
  {
   "cell_type": "code",
   "execution_count": 4,
   "id": "662d8cad",
   "metadata": {},
   "outputs": [],
   "source": [
    "import matplotlib as mpl\n",
    "import matplotlib.pyplot as plt\n",
    "%matplotlib inline\n",
    "from IPython.core.pylabtools import figsize\n",
    "\n",
    "from ipywidgets import widgets\n",
    "from IPython.display import display\n",
    "\n",
    "import numpy as np\n",
    "import pandas as pd\n",
    "import seaborn as sns"
   ]
  },
  {
   "cell_type": "markdown",
   "id": "28ef686d",
   "metadata": {},
   "source": [
    " This theory is well characterized in microeconomics. First, for the record, the risk sensitivity generally does depend on the level of wealth. The _Arrow-Pratt coefficient of risk aversion_ is defined as\n",
    "$$\n",
    " A(x) = - \\frac{u''(x)}{u'(x)}\n",
    "$$\n",
    "\n",
    "which can evidently vary with wealth. I may return to this coefficient later.\n",
    "\n",
    "Using an expected utility form, the portfolio allocation problem is:\n",
    "$$\n",
    "    \\max_{0 \\le r \\le 1} \\int u \\big( (1-r)w + rwz \\big) p(z) dz\n",
    "$$\n",
    "\n",
    "where $w$ is wealth, $r$ is the fraction allocated to the risky asset, and $z$ is the fold-change in the risky asset value.\n",
    "\n",
    "Sampling $z$, we can find approximate solutions by optimizing. This has fairly large variance in the solutions that we find, but it's good enough for the purposes of characterization.\n"
   ]
  },
  {
   "cell_type": "markdown",
   "id": "960ae10c",
   "metadata": {},
   "source": [
    "### The objective here is to find a parameter regime in which the optimal solutions vary over a reasonable range\n",
    "\n",
    "There are two sources of variance in the solutions: changes in wealth, and changes in the amount of time remaining. Do the changes in remaining time matter? "
   ]
  },
  {
   "cell_type": "code",
   "execution_count": 4,
   "id": "e648a617",
   "metadata": {},
   "outputs": [],
   "source": [
    "from groundTruth import findBestAction, findBestAction_determ"
   ]
  },
  {
   "cell_type": "code",
   "execution_count": 8,
   "id": "2fb8762c",
   "metadata": {},
   "outputs": [
    {
     "data": {
      "text/plain": [
       "     fun: -85.93459877923233\n",
       "     jac: array([-8.39233398e-05])\n",
       " message: 'Optimization terminated successfully'\n",
       "    nfev: 10\n",
       "     nit: 5\n",
       "    njev: 5\n",
       "  status: 0\n",
       " success: True\n",
       "       x: array([0.20587542])"
      ]
     },
     "execution_count": 8,
     "metadata": {},
     "output_type": "execute_result"
    }
   ],
   "source": [
    "findBestAction(0.008, 0.2, 1., np.log)"
   ]
  },
  {
   "cell_type": "code",
   "execution_count": 12,
   "id": "891b9250",
   "metadata": {
    "deletable": false,
    "editable": false,
    "run_control": {
     "frozen": true
    }
   },
   "outputs": [
    {
     "name": "stdout",
     "output_type": "stream",
     "text": [
      "0\n",
      "100\n",
      "200\n",
      "300\n",
      "400\n",
      "500\n",
      "600\n",
      "700\n",
      "800\n",
      "900\n"
     ]
    }
   ],
   "source": [
    "base = []\n",
    "scaled2 = []\n",
    "scaled3 = []\n",
    "\n",
    "for samples in range(1000):\n",
    "    base.append(findBestAction(0.008, 0.2, 1., np.log).x[0] )\n",
    "    scaled2.append( findBestAction(0.008*4, 0.2*2, 1., np.log).x[0] )\n",
    "    scaled3.append( findBestAction(0.008*9, 0.2*3, 1., np.log).x[0] )\n",
    "    \n",
    "    if samples % 100==0:\n",
    "        print(samples)\n",
    "\n",
    "base = np.array(base)\n",
    "scaled2 = np.array(scaled2)\n",
    "scaled3 = np.array(scaled3)"
   ]
  },
  {
   "cell_type": "code",
   "execution_count": 25,
   "id": "8ee7f6df",
   "metadata": {
    "deletable": false,
    "editable": false,
    "run_control": {
     "frozen": true
    }
   },
   "outputs": [
    {
     "name": "stdout",
     "output_type": "stream",
     "text": [
      "Base: 0.19826708630417744 +- 1.575516072896693e-05\n",
      "scaled2: 0.1929299527499124 +- 8.20804573133972e-06\n",
      "scaled3: 0.18472148970403215 +- 5.671510167585498e-06\n"
     ]
    }
   ],
   "source": [
    "print('Base: {mean} +- {sem}'.format(**{'mean': base.mean(), 'sem': base.std()/len(base) }))\n",
    "print('scaled2: {mean} +- {sem}'.format(**{'mean': scaled2.mean(), 'sem': scaled2.std()/len(base) }))\n",
    "print('scaled3: {mean} +- {sem}'.format(**{'mean': scaled3.mean(), 'sem': scaled3.std()/len(base) }))"
   ]
  },
  {
   "cell_type": "code",
   "execution_count": 31,
   "id": "9ddc77fb",
   "metadata": {
    "deletable": false,
    "editable": false,
    "run_control": {
     "frozen": true
    }
   },
   "outputs": [
    {
     "name": "stdout",
     "output_type": "stream",
     "text": [
      "Ttest_indResult(statistic=9.495641498441845, pvalue=8.26370538188007e-21)\n",
      "Ttest_indResult(statistic=25.56811767236117, pvalue=2.184732434660149e-116)\n",
      "Ttest_indResult(statistic=-26.00459198425001, pvalue=1.3535331868868796e-126)\n"
     ]
    }
   ],
   "source": [
    "from scipy.stats import ttest_ind\n",
    "\n",
    "print( ttest_ind(base, scaled2, equal_var=False) )\n",
    "print( ttest_ind(base, scaled3, equal_var=False) )\n",
    "print( ttest_ind(scaled3, scaled2, equal_var=False) )"
   ]
  },
  {
   "cell_type": "markdown",
   "id": "4ce4e011",
   "metadata": {},
   "source": [
    "Ok, so for the log objective function, there is a small but significant difference in the optimal actions at different times"
   ]
  },
  {
   "cell_type": "code",
   "execution_count": 34,
   "id": "df0a49e7",
   "metadata": {
    "deletable": false,
    "editable": false,
    "run_control": {
     "frozen": true
    }
   },
   "outputs": [
    {
     "name": "stdout",
     "output_type": "stream",
     "text": [
      "0\n",
      "100\n",
      "200\n",
      "300\n",
      "400\n",
      "500\n",
      "600\n",
      "700\n",
      "800\n",
      "900\n"
     ]
    }
   ],
   "source": [
    "base = []\n",
    "scaled2 = []\n",
    "scaled3 = []\n",
    "\n",
    "for samples in range(1000):\n",
    "    base.append(findBestAction(0.008, 0.2, 1., np.sqrt).x[0] )\n",
    "    scaled2.append( findBestAction(0.008*4, 0.2*2, 1., np.sqrt).x[0] )\n",
    "    scaled3.append( findBestAction(0.008*9, 0.2*3, 1., np.sqrt).x[0] )\n",
    "    \n",
    "    if samples % 100==0:\n",
    "        print(samples)\n",
    "\n",
    "base = np.array(base)\n",
    "scaled2 = np.array(scaled2)\n",
    "scaled3 = np.array(scaled3)"
   ]
  },
  {
   "cell_type": "code",
   "execution_count": 35,
   "id": "72000fc1",
   "metadata": {
    "deletable": false,
    "editable": false,
    "run_control": {
     "frozen": true
    }
   },
   "outputs": [
    {
     "name": "stdout",
     "output_type": "stream",
     "text": [
      "Base: 0.3986722317853587 +- 3.116367295307047e-05\n",
      "scaled2: 0.3961747878303624 +- 1.6505537173108128e-05\n",
      "scaled3: 0.39208367905965097 +- 1.1729334049028684e-05\n"
     ]
    }
   ],
   "source": [
    "print('Base: {mean} +- {sem}'.format(**{'mean': base.mean(), 'sem': base.std()/len(base) }))\n",
    "print('scaled2: {mean} +- {sem}'.format(**{'mean': scaled2.mean(), 'sem': scaled2.std()/len(base) }))\n",
    "print('scaled3: {mean} +- {sem}'.format(**{'mean': scaled3.mean(), 'sem': scaled3.std()/len(base) }))"
   ]
  },
  {
   "cell_type": "code",
   "execution_count": 36,
   "id": "104589e2",
   "metadata": {
    "deletable": false,
    "editable": false,
    "run_control": {
     "frozen": true
    }
   },
   "outputs": [
    {
     "name": "stdout",
     "output_type": "stream",
     "text": [
      "Ttest_indResult(statistic=2.2383957324377013, pvalue=0.025339679788478453)\n",
      "Ttest_indResult(statistic=6.253967256016925, pvalue=5.447918867609082e-10)\n",
      "Ttest_indResult(statistic=-6.385964905235018, pvalue=2.1614047502163774e-10)\n"
     ]
    }
   ],
   "source": [
    "from scipy.stats import ttest_ind\n",
    "\n",
    "print( ttest_ind(base, scaled2, equal_var=False) )\n",
    "print( ttest_ind(base, scaled3, equal_var=False) )\n",
    "print( ttest_ind(scaled3, scaled2, equal_var=False) )"
   ]
  },
  {
   "cell_type": "markdown",
   "id": "fa77bade",
   "metadata": {},
   "source": [
    "The difference here for square root is similarly small, and not always very significant."
   ]
  },
  {
   "cell_type": "markdown",
   "id": "0a740a18",
   "metadata": {},
   "source": [
    "### There appear to be differences, albeit small, between optimal actions at different times."
   ]
  },
  {
   "cell_type": "code",
   "execution_count": 15,
   "id": "fe7733e4",
   "metadata": {},
   "outputs": [],
   "source": [
    "def optimalAction(time, wealth, mu=0.006, sigma=0.2, utilityFn=np.sqrt):\n",
    "    return findBestAction(mu*time, sigma*time**0.5, wealth, utilityFn).x[0]\n",
    "\n",
    "\n",
    "def makeGrid(Times, Wealths, **kwargs):\n",
    "    outputs = []\n",
    "    for time, wealth in zip(Times.reshape(-1), Wealths.reshape(-1)):\n",
    "        outputs.append( optimalAction(time, wealth, **kwargs) )\n",
    "    outputs = np.array( outputs)\n",
    "    return outputs.reshape(Times.shape)\n"
   ]
  },
  {
   "cell_type": "code",
   "execution_count": 16,
   "id": "69419507",
   "metadata": {},
   "outputs": [
    {
     "data": {
      "text/plain": [
       "(0.0, 1.0)"
      ]
     },
     "execution_count": 16,
     "metadata": {},
     "output_type": "execute_result"
    },
    {
     "data": {
      "image/png": "[encoded data removed]",
      "text/plain": [
       "<Figure size 640x480 with 1 Axes>"
      ]
     },
     "metadata": {},
     "output_type": "display_data"
    }
   ],
   "source": [
    "wealths = np.linspace(0.1, 10)\n",
    "actions = []\n",
    "for wealth in wealths:\n",
    "    actions.append( optimalAction(1., wealth, mu=0.002, sigma=0.09, utilityFn=np.sqrt) );\n",
    "    \n",
    "plt.plot(wealths, actions, '.')\n",
    "plt.ylim([0,1])"
   ]
  },
  {
   "cell_type": "markdown",
   "id": "554806c7",
   "metadata": {},
   "source": [
    "### Observations:\n",
    "\n",
    "1. Large standard deviation in the geometric Brownian mostion seems to be key to achieving a reasonably smooth action curves. However, these also result in worse performance from sampling due to the large variances.\n",
    "\n",
    "2. Taking more samples results in a lot of 50% solutions to the optimization problem (above). Why would this be?\n",
    "\n",
    "3. Why does the optimal allocation _decrease_ with wealth? This is surprising.\n",
    "\n",
    "### note: the above plots have since been re-run using a bug-fixed version. See Below"
   ]
  },
  {
   "cell_type": "markdown",
   "id": "a3367beb",
   "metadata": {},
   "source": [
    "## 07/30 some answers:\n",
    "\n",
    "1. There was a bug in the ground truth solution, which I fixed, removing much of the wealth effect. This also explains the decreasing wealth effect: I wasn't paying out properly in proportion to the amount wagered. Unfortunately, I reran the above plots, so the previous effect aren't visible any more.\n",
    "\n",
    "2. I was using 50% as an initial guess, so this is probabily why many runs seem to default to that.\n",
    "\n",
    "3. Using a numerical quadrature method is a reasonable way to go to avoid sampling issues, but it does make the optimization much slower.\n",
    "\n",
    "\n",
    "Moving forward, there are two things to do.\n",
    "1. Do the RL agents find the ground truths when they are approximately constant?\n",
    "2. Is there a parameter region where the ground truths actually change a fair amount"
   ]
  },
  {
   "cell_type": "code",
   "execution_count": 1,
   "id": "45afa572",
   "metadata": {},
   "outputs": [],
   "source": [
    "%run groundTruth.py\n",
    "\n",
    "def optimalAction(time, wealth, mu=0.006, sigma=0.2, utilityFn=np.sqrt):\n",
    "    return findBestAction_determ(mu*time, sigma*time**0.5, wealth, utilityFn).x[0]\n",
    "\n",
    "\n",
    "def makeGrid(Times, Wealths, **kwargs):\n",
    "    outputs = []\n",
    "    for time, wealth in zip(Times.reshape(-1), Wealths.reshape(-1)):\n",
    "        outputs.append( optimalAction(time, wealth, **kwargs) )\n",
    "    outputs = np.array( outputs)\n",
    "    return outputs.reshape(Times.shape)"
   ]
  },
  {
   "cell_type": "markdown",
   "id": "6610236e",
   "metadata": {},
   "source": [
    "## Searching for wealth effects"
   ]
  },
  {
   "cell_type": "code",
   "execution_count": 46,
   "id": "14ee328a",
   "metadata": {},
   "outputs": [
    {
     "data": {
      "image/png": "[encoded data removed]",
      "text/plain": [
       "<Figure size 640x480 with 1 Axes>"
      ]
     },
     "metadata": {},
     "output_type": "display_data"
    }
   ],
   "source": [
    "# plotting utility curves to avoid the slow optimization step\n",
    "weights = np.linspace(0,1, 20)\n",
    "wealths = np.logspace(-1, 2, 10)\n",
    "\n",
    "for wealth in wealths:\n",
    "    utilityCurve = utilityCurve_determ(0.05, 0.4, wealth, lambda x: np.sqrt(x))(weights)\n",
    "    \n",
    "    plt.plot( weights, utilityCurve /np.max(utilityCurve) , label=f'{wealth}' )\n",
    "\n",
    "#plt.ylim([0,2])\n",
    "#plt.legend()"
   ]
  },
  {
   "cell_type": "code",
   "execution_count": null,
   "id": "25b7c504",
   "metadata": {},
   "outputs": [],
   "source": []
  },
  {
   "cell_type": "code",
   "execution_count": null,
   "id": "a946885b",
   "metadata": {},
   "outputs": [],
   "source": []
  }
 ],
 "metadata": {
  "kernelspec": {
   "display_name": "Python 3",
   "language": "python",
   "name": "python3"
  },
  "language_info": {
   "codemirror_mode": {
    "name": "ipython",
    "version": 3
   },
   "file_extension": ".py",
   "mimetype": "text/x-python",
   "name": "python",
   "nbconvert_exporter": "python",
   "pygments_lexer": "ipython3",
   "version": "3.9.16"
  }
 },
 "nbformat": 4,
 "nbformat_minor": 5
}
