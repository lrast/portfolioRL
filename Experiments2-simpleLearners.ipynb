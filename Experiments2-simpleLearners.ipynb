{
 "cells": [
  {
   "cell_type": "markdown",
   "id": "1b64a1ec",
   "metadata": {},
   "source": [
    "# Simple properties of the learners: do they find the correct constant policies?"
   ]
  },
  {
   "cell_type": "code",
   "execution_count": 1,
   "id": "993b1577",
   "metadata": {},
   "outputs": [],
   "source": [
    "import matplotlib as mpl\n",
    "import matplotlib.pyplot as plt\n",
    "%matplotlib inline\n",
    "from IPython.core.pylabtools import figsize\n",
    "\n",
    "from ipywidgets import widgets\n",
    "from IPython.display import display\n",
    "\n",
    "import numpy as np\n",
    "import pandas as pd\n",
    "import torch\n",
    "\n",
    "import wandb"
   ]
  },
  {
   "cell_type": "markdown",
   "id": "59c859b3",
   "metadata": {},
   "source": [
    "## Step 1: finding a parameter range that explores different policies\n"
   ]
  },
  {
   "cell_type": "code",
   "execution_count": 4,
   "id": "6f215857",
   "metadata": {},
   "outputs": [],
   "source": [
    "%run groundTruth.py"
   ]
  },
  {
   "cell_type": "code",
   "execution_count": 78,
   "id": "672bfc7c",
   "metadata": {
    "deletable": false,
    "editable": false
   },
   "outputs": [
    {
     "data": {
      "text/plain": [
       "Text(0, 0.5, 'Optimal action')"
      ]
     },
     "execution_count": 78,
     "metadata": {},
     "output_type": "execute_result"
    },
    {
     "data": {
      "image/png": "[encoded data removed]",
      "text/plain": [
       "<Figure size 300x300 with 1 Axes>"
      ]
     },
     "metadata": {},
     "output_type": "display_data"
    }
   ],
   "source": [
    "mus = np.logspace(-3, -0.9, 12)\n",
    "actions_sqrt = []\n",
    "actions_log = []\n",
    "\n",
    "figsize(3,3)\n",
    "\n",
    "for mu in mus:\n",
    "    actions_sqrt.append( findBestAction_determ(mu, 0.25, 1., np.sqrt).x[0] )\n",
    "    actions_log.append( findBestAction_determ(mu, 0.25, 1., np.log).x[0] )\n",
    "    \n",
    "plt.semilogx(mus, actions_sqrt, '.')\n",
    "plt.semilogx(mus, actions_log, '.')\n",
    "plt.ylim([-0.05, 1.05])\n",
    "plt.xlabel('Mean return')\n",
    "plt.ylabel('Optimal action')"
   ]
  },
  {
   "cell_type": "markdown",
   "id": "51af646e",
   "metadata": {},
   "source": [
    "### This is a nice range of means that allows both utility functions to explore a range of optimal allocations"
   ]
  },
  {
   "cell_type": "code",
   "execution_count": 79,
   "id": "dc6288ab",
   "metadata": {
    "deletable": false,
    "editable": false
   },
   "outputs": [
    {
     "data": {
      "text/plain": [
       "Text(0, 0.5, 'Optimal action')"
      ]
     },
     "execution_count": 79,
     "metadata": {},
     "output_type": "execute_result"
    },
    {
     "data": {
      "image/png": "[encoded data removed]",
      "text/plain": [
       "<Figure size 300x300 with 1 Axes>"
      ]
     },
     "metadata": {},
     "output_type": "display_data"
    }
   ],
   "source": [
    "sigmas = np.logspace(-1, 0., 10)\n",
    "actions_sqrt = []\n",
    "actions_log = []\n",
    "\n",
    "figsize(3,3)\n",
    "\n",
    "for sigma in sigmas:\n",
    "    actions_sqrt.append( findBestAction_determ(0.02, sigma, 1., np.sqrt).x[0] )\n",
    "    actions_log.append( findBestAction_determ(0.02, sigma, 1., np.log).x[0] )\n",
    "    \n",
    "plt.semilogx(sigmas, actions_sqrt, '.')\n",
    "plt.semilogx(sigmas, actions_log, '.')\n",
    "plt.ylim([-0.05, 1.05])\n",
    "plt.xlabel('StDev of return')\n",
    "plt.ylabel('Optimal action')"
   ]
  },
  {
   "cell_type": "markdown",
   "id": "8d390024",
   "metadata": {},
   "source": [
    "### This is a good range of standard deviations."
   ]
  },
  {
   "cell_type": "markdown",
   "id": "68f6fcaf",
   "metadata": {},
   "source": [
    "## Step 2: Double checking these ground truth solutions against numerical sampling\n",
    "\n",
    "The sampler uses the same statistics as the learners. Double checking consistency here."
   ]
  },
  {
   "cell_type": "code",
   "execution_count": null,
   "id": "1f7c5ec1",
   "metadata": {
    "deletable": false,
    "editable": false,
    "run_control": {
     "frozen": true
    }
   },
   "outputs": [],
   "source": [
    "# this is slow, but its worth double checking\n",
    "\n",
    "from scipy.stats import ttest_1samp\n",
    "\n",
    "muDifferences = pd.DataFrame(columns=['mu', 'util', 'p', 'diff'])\n",
    "sigmaDifferences = pd.DataFrame(columns=['sigma', 'util', 'p', 'diff'])\n",
    "\n",
    "\n",
    "for mu in mus:\n",
    "    for utilityFn in [np.sqrt, np.log]:\n",
    "        baseline = findBestAction_determ(mu, 0.25, 1., utilityFn).x[0]\n",
    "        samples = []\n",
    "        for sampleN in range(200):\n",
    "            samples.append( findBestAction(mu, 0.25, 1., utilityFn).x[0] )\n",
    "\n",
    "        print('m', mu)\n",
    "        P = ttest_1samp(samples, baseline).pvalue\n",
    "        diff = np.mean(samples) - baseline\n",
    "        row = pd.DataFrame([{'mu': mu,'util':str(utilityFn),'p': P,'diff': diff}])\n",
    "        muDifferences = pd.concat( [muDifferences, row], ignore_index=True)\n",
    "        \n",
    "\n",
    "for sigma in sigmas:\n",
    "    for utilityFn in [np.sqrt, np.log]:\n",
    "        baseline = findBestAction_determ(0.02, sigma, 1., utilityFn).x[0]\n",
    "        samples = []\n",
    "        for sampleN in range(200):\n",
    "            samples.append( findBestAction(0.02, sigma, 1., utilityFn).x[0] )\n",
    "\n",
    "        print('s', sigma)\n",
    "        P = ttest_1samp(samples, baseline).pvalue\n",
    "        diff = np.mean(samples) - baseline\n",
    "        row = pd.DataFrame([{'sigma':sigma,'util':str(utilityFn), 'p': P, 'diff': diff}])\n",
    "        sigmaDifferences = pd.concat( [sigmaDifferences, row], ignore_index=True)\n",
    "        "
   ]
  },
  {
   "cell_type": "code",
   "execution_count": 155,
   "id": "47dc39e7",
   "metadata": {
    "deletable": false,
    "editable": false,
    "run_control": {
     "frozen": true
    }
   },
   "outputs": [
    {
     "data": {
      "text/html": [
       "<div>\n",
       "<style scoped>\n",
       "    .dataframe tbody tr th:only-of-type {\n",
       "        vertical-align: middle;\n",
       "    }\n",
       "\n",
       "    .dataframe tbody tr th {\n",
       "        vertical-align: top;\n",
       "    }\n",
       "\n",
       "    .dataframe thead th {\n",
       "        text-align: right;\n",
       "    }\n",
       "</style>\n",
       "<table border=\"1\" class=\"dataframe\">\n",
       "  <thead>\n",
       "    <tr style=\"text-align: right;\">\n",
       "      <th></th>\n",
       "      <th>mu</th>\n",
       "      <th>util</th>\n",
       "      <th>p</th>\n",
       "      <th>diff</th>\n",
       "    </tr>\n",
       "  </thead>\n",
       "  <tbody>\n",
       "    <tr>\n",
       "      <th>0</th>\n",
       "      <td>0.001000</td>\n",
       "      <td>&lt;ufunc 'sqrt'&gt;</td>\n",
       "      <td>2.953693e-09</td>\n",
       "      <td>4.891647e-03</td>\n",
       "    </tr>\n",
       "    <tr>\n",
       "      <th>1</th>\n",
       "      <td>0.001000</td>\n",
       "      <td>&lt;ufunc 'log'&gt;</td>\n",
       "      <td>3.664106e-02</td>\n",
       "      <td>-8.678654e-04</td>\n",
       "    </tr>\n",
       "    <tr>\n",
       "      <th>2</th>\n",
       "      <td>0.001552</td>\n",
       "      <td>&lt;ufunc 'sqrt'&gt;</td>\n",
       "      <td>9.424027e-08</td>\n",
       "      <td>4.664907e-03</td>\n",
       "    </tr>\n",
       "    <tr>\n",
       "      <th>3</th>\n",
       "      <td>0.001552</td>\n",
       "      <td>&lt;ufunc 'log'&gt;</td>\n",
       "      <td>1.484969e-01</td>\n",
       "      <td>-5.352116e-04</td>\n",
       "    </tr>\n",
       "    <tr>\n",
       "      <th>4</th>\n",
       "      <td>0.002409</td>\n",
       "      <td>&lt;ufunc 'sqrt'&gt;</td>\n",
       "      <td>5.581269e-04</td>\n",
       "      <td>3.049392e-03</td>\n",
       "    </tr>\n",
       "    <tr>\n",
       "      <th>5</th>\n",
       "      <td>0.002409</td>\n",
       "      <td>&lt;ufunc 'log'&gt;</td>\n",
       "      <td>3.246900e-01</td>\n",
       "      <td>-4.261821e-04</td>\n",
       "    </tr>\n",
       "    <tr>\n",
       "      <th>6</th>\n",
       "      <td>0.003739</td>\n",
       "      <td>&lt;ufunc 'sqrt'&gt;</td>\n",
       "      <td>1.511952e-08</td>\n",
       "      <td>4.609161e-03</td>\n",
       "    </tr>\n",
       "    <tr>\n",
       "      <th>7</th>\n",
       "      <td>0.003739</td>\n",
       "      <td>&lt;ufunc 'log'&gt;</td>\n",
       "      <td>1.662824e-23</td>\n",
       "      <td>4.541669e-03</td>\n",
       "    </tr>\n",
       "    <tr>\n",
       "      <th>8</th>\n",
       "      <td>0.005803</td>\n",
       "      <td>&lt;ufunc 'sqrt'&gt;</td>\n",
       "      <td>3.727911e-02</td>\n",
       "      <td>1.792862e-03</td>\n",
       "    </tr>\n",
       "    <tr>\n",
       "      <th>9</th>\n",
       "      <td>0.005803</td>\n",
       "      <td>&lt;ufunc 'log'&gt;</td>\n",
       "      <td>3.009851e-16</td>\n",
       "      <td>3.518838e-03</td>\n",
       "    </tr>\n",
       "    <tr>\n",
       "      <th>10</th>\n",
       "      <td>0.009006</td>\n",
       "      <td>&lt;ufunc 'sqrt'&gt;</td>\n",
       "      <td>1.581377e-01</td>\n",
       "      <td>1.141733e-03</td>\n",
       "    </tr>\n",
       "    <tr>\n",
       "      <th>11</th>\n",
       "      <td>0.009006</td>\n",
       "      <td>&lt;ufunc 'log'&gt;</td>\n",
       "      <td>8.929064e-03</td>\n",
       "      <td>1.070503e-03</td>\n",
       "    </tr>\n",
       "    <tr>\n",
       "      <th>12</th>\n",
       "      <td>0.013978</td>\n",
       "      <td>&lt;ufunc 'sqrt'&gt;</td>\n",
       "      <td>8.905024e-143</td>\n",
       "      <td>-5.296287e-02</td>\n",
       "    </tr>\n",
       "    <tr>\n",
       "      <th>13</th>\n",
       "      <td>0.013978</td>\n",
       "      <td>&lt;ufunc 'log'&gt;</td>\n",
       "      <td>6.462781e-04</td>\n",
       "      <td>1.383112e-03</td>\n",
       "    </tr>\n",
       "    <tr>\n",
       "      <th>14</th>\n",
       "      <td>0.021695</td>\n",
       "      <td>&lt;ufunc 'sqrt'&gt;</td>\n",
       "      <td>1.894783e-01</td>\n",
       "      <td>-1.002134e-03</td>\n",
       "    </tr>\n",
       "    <tr>\n",
       "      <th>15</th>\n",
       "      <td>0.021695</td>\n",
       "      <td>&lt;ufunc 'log'&gt;</td>\n",
       "      <td>8.168894e-01</td>\n",
       "      <td>1.010322e-04</td>\n",
       "    </tr>\n",
       "    <tr>\n",
       "      <th>16</th>\n",
       "      <td>0.033672</td>\n",
       "      <td>&lt;ufunc 'sqrt'&gt;</td>\n",
       "      <td>8.974363e-02</td>\n",
       "      <td>-1.110223e-16</td>\n",
       "    </tr>\n",
       "    <tr>\n",
       "      <th>17</th>\n",
       "      <td>0.033672</td>\n",
       "      <td>&lt;ufunc 'log'&gt;</td>\n",
       "      <td>1.471200e-01</td>\n",
       "      <td>5.988975e-04</td>\n",
       "    </tr>\n",
       "    <tr>\n",
       "      <th>18</th>\n",
       "      <td>0.052261</td>\n",
       "      <td>&lt;ufunc 'sqrt'&gt;</td>\n",
       "      <td>9.313967e-02</td>\n",
       "      <td>-6.650236e-14</td>\n",
       "    </tr>\n",
       "    <tr>\n",
       "      <th>19</th>\n",
       "      <td>0.052261</td>\n",
       "      <td>&lt;ufunc 'log'&gt;</td>\n",
       "      <td>1.397101e-04</td>\n",
       "      <td>-1.645432e-03</td>\n",
       "    </tr>\n",
       "    <tr>\n",
       "      <th>20</th>\n",
       "      <td>0.081113</td>\n",
       "      <td>&lt;ufunc 'sqrt'&gt;</td>\n",
       "      <td>5.303303e-06</td>\n",
       "      <td>-2.100875e-12</td>\n",
       "    </tr>\n",
       "    <tr>\n",
       "      <th>21</th>\n",
       "      <td>0.081113</td>\n",
       "      <td>&lt;ufunc 'log'&gt;</td>\n",
       "      <td>9.707092e-01</td>\n",
       "      <td>-4.440892e-16</td>\n",
       "    </tr>\n",
       "    <tr>\n",
       "      <th>22</th>\n",
       "      <td>0.125893</td>\n",
       "      <td>&lt;ufunc 'sqrt'&gt;</td>\n",
       "      <td>1.052952e-03</td>\n",
       "      <td>4.007888e-08</td>\n",
       "    </tr>\n",
       "    <tr>\n",
       "      <th>23</th>\n",
       "      <td>0.125893</td>\n",
       "      <td>&lt;ufunc 'log'&gt;</td>\n",
       "      <td>2.500565e-02</td>\n",
       "      <td>-9.532375e-13</td>\n",
       "    </tr>\n",
       "  </tbody>\n",
       "</table>\n",
       "</div>"
      ],
      "text/plain": [
       "          mu            util              p          diff\n",
       "0   0.001000  <ufunc 'sqrt'>   2.953693e-09  4.891647e-03\n",
       "1   0.001000   <ufunc 'log'>   3.664106e-02 -8.678654e-04\n",
       "2   0.001552  <ufunc 'sqrt'>   9.424027e-08  4.664907e-03\n",
       "3   0.001552   <ufunc 'log'>   1.484969e-01 -5.352116e-04\n",
       "4   0.002409  <ufunc 'sqrt'>   5.581269e-04  3.049392e-03\n",
       "5   0.002409   <ufunc 'log'>   3.246900e-01 -4.261821e-04\n",
       "6   0.003739  <ufunc 'sqrt'>   1.511952e-08  4.609161e-03\n",
       "7   0.003739   <ufunc 'log'>   1.662824e-23  4.541669e-03\n",
       "8   0.005803  <ufunc 'sqrt'>   3.727911e-02  1.792862e-03\n",
       "9   0.005803   <ufunc 'log'>   3.009851e-16  3.518838e-03\n",
       "10  0.009006  <ufunc 'sqrt'>   1.581377e-01  1.141733e-03\n",
       "11  0.009006   <ufunc 'log'>   8.929064e-03  1.070503e-03\n",
       "12  0.013978  <ufunc 'sqrt'>  8.905024e-143 -5.296287e-02\n",
       "13  0.013978   <ufunc 'log'>   6.462781e-04  1.383112e-03\n",
       "14  0.021695  <ufunc 'sqrt'>   1.894783e-01 -1.002134e-03\n",
       "15  0.021695   <ufunc 'log'>   8.168894e-01  1.010322e-04\n",
       "16  0.033672  <ufunc 'sqrt'>   8.974363e-02 -1.110223e-16\n",
       "17  0.033672   <ufunc 'log'>   1.471200e-01  5.988975e-04\n",
       "18  0.052261  <ufunc 'sqrt'>   9.313967e-02 -6.650236e-14\n",
       "19  0.052261   <ufunc 'log'>   1.397101e-04 -1.645432e-03\n",
       "20  0.081113  <ufunc 'sqrt'>   5.303303e-06 -2.100875e-12\n",
       "21  0.081113   <ufunc 'log'>   9.707092e-01 -4.440892e-16\n",
       "22  0.125893  <ufunc 'sqrt'>   1.052952e-03  4.007888e-08\n",
       "23  0.125893   <ufunc 'log'>   2.500565e-02 -9.532375e-13"
      ]
     },
     "execution_count": 155,
     "metadata": {},
     "output_type": "execute_result"
    }
   ],
   "source": [
    "muDifferences"
   ]
  },
  {
   "cell_type": "code",
   "execution_count": 144,
   "id": "0e2ed280",
   "metadata": {
    "deletable": false,
    "editable": false,
    "run_control": {
     "frozen": true
    }
   },
   "outputs": [
    {
     "data": {
      "text/html": [
       "<div>\n",
       "<style scoped>\n",
       "    .dataframe tbody tr th:only-of-type {\n",
       "        vertical-align: middle;\n",
       "    }\n",
       "\n",
       "    .dataframe tbody tr th {\n",
       "        vertical-align: top;\n",
       "    }\n",
       "\n",
       "    .dataframe thead th {\n",
       "        text-align: right;\n",
       "    }\n",
       "</style>\n",
       "<table border=\"1\" class=\"dataframe\">\n",
       "  <thead>\n",
       "    <tr style=\"text-align: right;\">\n",
       "      <th></th>\n",
       "      <th>sigma</th>\n",
       "      <th>util</th>\n",
       "      <th>p</th>\n",
       "      <th>diff</th>\n",
       "    </tr>\n",
       "  </thead>\n",
       "  <tbody>\n",
       "    <tr>\n",
       "      <th>0</th>\n",
       "      <td>0.100000</td>\n",
       "      <td>&lt;ufunc 'sqrt'&gt;</td>\n",
       "      <td>1.754497e-01</td>\n",
       "      <td>1.347948e-10</td>\n",
       "    </tr>\n",
       "    <tr>\n",
       "      <th>1</th>\n",
       "      <td>0.100000</td>\n",
       "      <td>&lt;ufunc 'log'&gt;</td>\n",
       "      <td>1.234404e-02</td>\n",
       "      <td>-1.931788e-13</td>\n",
       "    </tr>\n",
       "    <tr>\n",
       "      <th>2</th>\n",
       "      <td>0.129155</td>\n",
       "      <td>&lt;ufunc 'sqrt'&gt;</td>\n",
       "      <td>2.602750e-02</td>\n",
       "      <td>-1.938449e-13</td>\n",
       "    </tr>\n",
       "    <tr>\n",
       "      <th>3</th>\n",
       "      <td>0.129155</td>\n",
       "      <td>&lt;ufunc 'log'&gt;</td>\n",
       "      <td>1.704846e-04</td>\n",
       "      <td>-3.885781e-15</td>\n",
       "    </tr>\n",
       "    <tr>\n",
       "      <th>4</th>\n",
       "      <td>0.166810</td>\n",
       "      <td>&lt;ufunc 'sqrt'&gt;</td>\n",
       "      <td>8.818402e-02</td>\n",
       "      <td>-7.993606e-15</td>\n",
       "    </tr>\n",
       "    <tr>\n",
       "      <th>5</th>\n",
       "      <td>0.166810</td>\n",
       "      <td>&lt;ufunc 'log'&gt;</td>\n",
       "      <td>8.567265e-01</td>\n",
       "      <td>1.166584e-04</td>\n",
       "    </tr>\n",
       "    <tr>\n",
       "      <th>6</th>\n",
       "      <td>0.215443</td>\n",
       "      <td>&lt;ufunc 'sqrt'&gt;</td>\n",
       "      <td>6.106401e-02</td>\n",
       "      <td>-1.673284e-03</td>\n",
       "    </tr>\n",
       "    <tr>\n",
       "      <th>7</th>\n",
       "      <td>0.215443</td>\n",
       "      <td>&lt;ufunc 'log'&gt;</td>\n",
       "      <td>5.022880e-01</td>\n",
       "      <td>3.323196e-04</td>\n",
       "    </tr>\n",
       "    <tr>\n",
       "      <th>8</th>\n",
       "      <td>0.278256</td>\n",
       "      <td>&lt;ufunc 'sqrt'&gt;</td>\n",
       "      <td>3.209623e-54</td>\n",
       "      <td>1.631573e-02</td>\n",
       "    </tr>\n",
       "    <tr>\n",
       "      <th>9</th>\n",
       "      <td>0.278256</td>\n",
       "      <td>&lt;ufunc 'log'&gt;</td>\n",
       "      <td>5.088905e-05</td>\n",
       "      <td>1.539331e-03</td>\n",
       "    </tr>\n",
       "    <tr>\n",
       "      <th>10</th>\n",
       "      <td>0.359381</td>\n",
       "      <td>&lt;ufunc 'sqrt'&gt;</td>\n",
       "      <td>2.004783e-01</td>\n",
       "      <td>7.183594e-04</td>\n",
       "    </tr>\n",
       "    <tr>\n",
       "      <th>11</th>\n",
       "      <td>0.359381</td>\n",
       "      <td>&lt;ufunc 'log'&gt;</td>\n",
       "      <td>1.570255e-01</td>\n",
       "      <td>3.909669e-04</td>\n",
       "    </tr>\n",
       "    <tr>\n",
       "      <th>12</th>\n",
       "      <td>0.464159</td>\n",
       "      <td>&lt;ufunc 'sqrt'&gt;</td>\n",
       "      <td>6.284182e-01</td>\n",
       "      <td>-2.086768e-04</td>\n",
       "    </tr>\n",
       "    <tr>\n",
       "      <th>13</th>\n",
       "      <td>0.464159</td>\n",
       "      <td>&lt;ufunc 'log'&gt;</td>\n",
       "      <td>3.417161e-01</td>\n",
       "      <td>-1.972380e-04</td>\n",
       "    </tr>\n",
       "    <tr>\n",
       "      <th>14</th>\n",
       "      <td>0.599484</td>\n",
       "      <td>&lt;ufunc 'sqrt'&gt;</td>\n",
       "      <td>6.193540e-12</td>\n",
       "      <td>-2.397172e-03</td>\n",
       "    </tr>\n",
       "    <tr>\n",
       "      <th>15</th>\n",
       "      <td>0.599484</td>\n",
       "      <td>&lt;ufunc 'log'&gt;</td>\n",
       "      <td>7.993333e-01</td>\n",
       "      <td>-4.482557e-05</td>\n",
       "    </tr>\n",
       "    <tr>\n",
       "      <th>16</th>\n",
       "      <td>0.774264</td>\n",
       "      <td>&lt;ufunc 'sqrt'&gt;</td>\n",
       "      <td>1.546557e-01</td>\n",
       "      <td>-3.412211e-04</td>\n",
       "    </tr>\n",
       "    <tr>\n",
       "      <th>17</th>\n",
       "      <td>0.774264</td>\n",
       "      <td>&lt;ufunc 'log'&gt;</td>\n",
       "      <td>5.746340e-18</td>\n",
       "      <td>1.489078e-01</td>\n",
       "    </tr>\n",
       "    <tr>\n",
       "      <th>18</th>\n",
       "      <td>1.000000</td>\n",
       "      <td>&lt;ufunc 'sqrt'&gt;</td>\n",
       "      <td>6.494612e-01</td>\n",
       "      <td>7.945506e-05</td>\n",
       "    </tr>\n",
       "    <tr>\n",
       "      <th>19</th>\n",
       "      <td>1.000000</td>\n",
       "      <td>&lt;ufunc 'log'&gt;</td>\n",
       "      <td>8.743681e-48</td>\n",
       "      <td>3.190381e-01</td>\n",
       "    </tr>\n",
       "  </tbody>\n",
       "</table>\n",
       "</div>"
      ],
      "text/plain": [
       "       sigma            util             p          diff\n",
       "0   0.100000  <ufunc 'sqrt'>  1.754497e-01  1.347948e-10\n",
       "1   0.100000   <ufunc 'log'>  1.234404e-02 -1.931788e-13\n",
       "2   0.129155  <ufunc 'sqrt'>  2.602750e-02 -1.938449e-13\n",
       "3   0.129155   <ufunc 'log'>  1.704846e-04 -3.885781e-15\n",
       "4   0.166810  <ufunc 'sqrt'>  8.818402e-02 -7.993606e-15\n",
       "5   0.166810   <ufunc 'log'>  8.567265e-01  1.166584e-04\n",
       "6   0.215443  <ufunc 'sqrt'>  6.106401e-02 -1.673284e-03\n",
       "7   0.215443   <ufunc 'log'>  5.022880e-01  3.323196e-04\n",
       "8   0.278256  <ufunc 'sqrt'>  3.209623e-54  1.631573e-02\n",
       "9   0.278256   <ufunc 'log'>  5.088905e-05  1.539331e-03\n",
       "10  0.359381  <ufunc 'sqrt'>  2.004783e-01  7.183594e-04\n",
       "11  0.359381   <ufunc 'log'>  1.570255e-01  3.909669e-04\n",
       "12  0.464159  <ufunc 'sqrt'>  6.284182e-01 -2.086768e-04\n",
       "13  0.464159   <ufunc 'log'>  3.417161e-01 -1.972380e-04\n",
       "14  0.599484  <ufunc 'sqrt'>  6.193540e-12 -2.397172e-03\n",
       "15  0.599484   <ufunc 'log'>  7.993333e-01 -4.482557e-05\n",
       "16  0.774264  <ufunc 'sqrt'>  1.546557e-01 -3.412211e-04\n",
       "17  0.774264   <ufunc 'log'>  5.746340e-18  1.489078e-01\n",
       "18  1.000000  <ufunc 'sqrt'>  6.494612e-01  7.945506e-05\n",
       "19  1.000000   <ufunc 'log'>  8.743681e-48  3.190381e-01"
      ]
     },
     "execution_count": 144,
     "metadata": {},
     "output_type": "execute_result"
    }
   ],
   "source": [
    "sigmaDifferences"
   ]
  },
  {
   "cell_type": "markdown",
   "id": "a80366a8",
   "metadata": {},
   "source": [
    "### Ok, this is not quite as clear of a signal as I was hoping for. \n",
    "\n",
    "Many of the results are, in fact, not significantly different, as you would hope. However, there are quite a few that are significantly different. \n",
    "\n",
    " - Of course, we are doing a lot of tests, so it is quite likely that some of the sampled p-values would be small.\n",
    " \n",
    " - It's also possible that the noise is non-Gaussian, impacting the test: it comes out of a maximization process, and the results are limited to the range [0,1] \n",
    " \n",
    "How to proceed?\n",
    "\n",
    " - Many of the differences, while significant, are small. In some sense, this sets a bound on the accuracy that we can expect from the learners."
   ]
  },
  {
   "cell_type": "markdown",
   "id": "fd1b42bc",
   "metadata": {},
   "source": [
    "### looking into the biggest differences"
   ]
  },
  {
   "cell_type": "code",
   "execution_count": 231,
   "id": "646bc374",
   "metadata": {
    "deletable": false,
    "editable": false,
    "run_control": {
     "frozen": true
    }
   },
   "outputs": [
    {
     "data": {
      "text/html": [
       "<div>\n",
       "<style scoped>\n",
       "    .dataframe tbody tr th:only-of-type {\n",
       "        vertical-align: middle;\n",
       "    }\n",
       "\n",
       "    .dataframe tbody tr th {\n",
       "        vertical-align: top;\n",
       "    }\n",
       "\n",
       "    .dataframe thead th {\n",
       "        text-align: right;\n",
       "    }\n",
       "</style>\n",
       "<table border=\"1\" class=\"dataframe\">\n",
       "  <thead>\n",
       "    <tr style=\"text-align: right;\">\n",
       "      <th></th>\n",
       "      <th>mu</th>\n",
       "      <th>util</th>\n",
       "      <th>p</th>\n",
       "      <th>diff</th>\n",
       "    </tr>\n",
       "  </thead>\n",
       "  <tbody>\n",
       "    <tr>\n",
       "      <th>0</th>\n",
       "      <td>0.001000</td>\n",
       "      <td>&lt;ufunc 'sqrt'&gt;</td>\n",
       "      <td>2.953693e-09</td>\n",
       "      <td>0.004892</td>\n",
       "    </tr>\n",
       "    <tr>\n",
       "      <th>2</th>\n",
       "      <td>0.001552</td>\n",
       "      <td>&lt;ufunc 'sqrt'&gt;</td>\n",
       "      <td>9.424027e-08</td>\n",
       "      <td>0.004665</td>\n",
       "    </tr>\n",
       "    <tr>\n",
       "      <th>4</th>\n",
       "      <td>0.002409</td>\n",
       "      <td>&lt;ufunc 'sqrt'&gt;</td>\n",
       "      <td>5.581269e-04</td>\n",
       "      <td>0.003049</td>\n",
       "    </tr>\n",
       "    <tr>\n",
       "      <th>6</th>\n",
       "      <td>0.003739</td>\n",
       "      <td>&lt;ufunc 'sqrt'&gt;</td>\n",
       "      <td>1.511952e-08</td>\n",
       "      <td>0.004609</td>\n",
       "    </tr>\n",
       "    <tr>\n",
       "      <th>7</th>\n",
       "      <td>0.003739</td>\n",
       "      <td>&lt;ufunc 'log'&gt;</td>\n",
       "      <td>1.662824e-23</td>\n",
       "      <td>0.004542</td>\n",
       "    </tr>\n",
       "    <tr>\n",
       "      <th>9</th>\n",
       "      <td>0.005803</td>\n",
       "      <td>&lt;ufunc 'log'&gt;</td>\n",
       "      <td>3.009851e-16</td>\n",
       "      <td>0.003519</td>\n",
       "    </tr>\n",
       "    <tr>\n",
       "      <th>12</th>\n",
       "      <td>0.013978</td>\n",
       "      <td>&lt;ufunc 'sqrt'&gt;</td>\n",
       "      <td>8.905024e-143</td>\n",
       "      <td>-0.052963</td>\n",
       "    </tr>\n",
       "    <tr>\n",
       "      <th>13</th>\n",
       "      <td>0.013978</td>\n",
       "      <td>&lt;ufunc 'log'&gt;</td>\n",
       "      <td>6.462781e-04</td>\n",
       "      <td>0.001383</td>\n",
       "    </tr>\n",
       "    <tr>\n",
       "      <th>19</th>\n",
       "      <td>0.052261</td>\n",
       "      <td>&lt;ufunc 'log'&gt;</td>\n",
       "      <td>1.397101e-04</td>\n",
       "      <td>-0.001645</td>\n",
       "    </tr>\n",
       "  </tbody>\n",
       "</table>\n",
       "</div>"
      ],
      "text/plain": [
       "          mu            util              p      diff\n",
       "0   0.001000  <ufunc 'sqrt'>   2.953693e-09  0.004892\n",
       "2   0.001552  <ufunc 'sqrt'>   9.424027e-08  0.004665\n",
       "4   0.002409  <ufunc 'sqrt'>   5.581269e-04  0.003049\n",
       "6   0.003739  <ufunc 'sqrt'>   1.511952e-08  0.004609\n",
       "7   0.003739   <ufunc 'log'>   1.662824e-23  0.004542\n",
       "9   0.005803   <ufunc 'log'>   3.009851e-16  0.003519\n",
       "12  0.013978  <ufunc 'sqrt'>  8.905024e-143 -0.052963\n",
       "13  0.013978   <ufunc 'log'>   6.462781e-04  0.001383\n",
       "19  0.052261   <ufunc 'log'>   1.397101e-04 -0.001645"
      ]
     },
     "execution_count": 231,
     "metadata": {},
     "output_type": "execute_result"
    }
   ],
   "source": [
    "muDifferences[ (muDifferences['diff'].abs() > 1E-3) & ((muDifferences.p) < 1E-3 )]"
   ]
  },
  {
   "cell_type": "code",
   "execution_count": 232,
   "id": "82c406cf",
   "metadata": {
    "deletable": false,
    "editable": false,
    "run_control": {
     "frozen": true
    }
   },
   "outputs": [
    {
     "data": {
      "text/html": [
       "<div>\n",
       "<style scoped>\n",
       "    .dataframe tbody tr th:only-of-type {\n",
       "        vertical-align: middle;\n",
       "    }\n",
       "\n",
       "    .dataframe tbody tr th {\n",
       "        vertical-align: top;\n",
       "    }\n",
       "\n",
       "    .dataframe thead th {\n",
       "        text-align: right;\n",
       "    }\n",
       "</style>\n",
       "<table border=\"1\" class=\"dataframe\">\n",
       "  <thead>\n",
       "    <tr style=\"text-align: right;\">\n",
       "      <th></th>\n",
       "      <th>sigma</th>\n",
       "      <th>util</th>\n",
       "      <th>p</th>\n",
       "      <th>diff</th>\n",
       "    </tr>\n",
       "  </thead>\n",
       "  <tbody>\n",
       "    <tr>\n",
       "      <th>8</th>\n",
       "      <td>0.278256</td>\n",
       "      <td>&lt;ufunc 'sqrt'&gt;</td>\n",
       "      <td>3.209623e-54</td>\n",
       "      <td>0.016316</td>\n",
       "    </tr>\n",
       "    <tr>\n",
       "      <th>9</th>\n",
       "      <td>0.278256</td>\n",
       "      <td>&lt;ufunc 'log'&gt;</td>\n",
       "      <td>5.088905e-05</td>\n",
       "      <td>0.001539</td>\n",
       "    </tr>\n",
       "    <tr>\n",
       "      <th>14</th>\n",
       "      <td>0.599484</td>\n",
       "      <td>&lt;ufunc 'sqrt'&gt;</td>\n",
       "      <td>6.193540e-12</td>\n",
       "      <td>-0.002397</td>\n",
       "    </tr>\n",
       "    <tr>\n",
       "      <th>17</th>\n",
       "      <td>0.774264</td>\n",
       "      <td>&lt;ufunc 'log'&gt;</td>\n",
       "      <td>5.746340e-18</td>\n",
       "      <td>0.148908</td>\n",
       "    </tr>\n",
       "    <tr>\n",
       "      <th>19</th>\n",
       "      <td>1.000000</td>\n",
       "      <td>&lt;ufunc 'log'&gt;</td>\n",
       "      <td>8.743681e-48</td>\n",
       "      <td>0.319038</td>\n",
       "    </tr>\n",
       "  </tbody>\n",
       "</table>\n",
       "</div>"
      ],
      "text/plain": [
       "       sigma            util             p      diff\n",
       "8   0.278256  <ufunc 'sqrt'>  3.209623e-54  0.016316\n",
       "9   0.278256   <ufunc 'log'>  5.088905e-05  0.001539\n",
       "14  0.599484  <ufunc 'sqrt'>  6.193540e-12 -0.002397\n",
       "17  0.774264   <ufunc 'log'>  5.746340e-18  0.148908\n",
       "19  1.000000   <ufunc 'log'>  8.743681e-48  0.319038"
      ]
     },
     "execution_count": 232,
     "metadata": {},
     "output_type": "execute_result"
    }
   ],
   "source": [
    "\n",
    "sigmaDifferences[ (sigmaDifferences['diff'].abs() > 1E-3) & (sigmaDifferences['p'] < 1E-3) ]"
   ]
  },
  {
   "cell_type": "markdown",
   "id": "4b275410",
   "metadata": {},
   "source": [
    "### Examples:"
   ]
  },
  {
   "cell_type": "code",
   "execution_count": 246,
   "id": "01c1b6b8",
   "metadata": {
    "deletable": false,
    "editable": false,
    "run_control": {
     "frozen": true
    }
   },
   "outputs": [
    {
     "name": "stdout",
     "output_type": "stream",
     "text": [
      "determ:  0.5\n",
      "sampled:  0.43921456507622453\n"
     ]
    }
   ],
   "source": [
    "#1\n",
    "mu = 0.013978\n",
    "print('determ: ', findBestAction_determ(mu, 0.25, 1., np.sqrt).x[0] )\n",
    "print('sampled: ', findBestAction(mu, 0.25, 1., np.sqrt).x[0] )"
   ]
  },
  {
   "cell_type": "markdown",
   "id": "57b4407e",
   "metadata": {},
   "source": [
    "In this case, the deterministic optimizer appears to have failed, defaulting to the initial guess of 0.5"
   ]
  },
  {
   "cell_type": "code",
   "execution_count": 249,
   "id": "fc687212",
   "metadata": {
    "deletable": false,
    "editable": false,
    "run_control": {
     "frozen": true
    }
   },
   "outputs": [
    {
     "name": "stdout",
     "output_type": "stream",
     "text": [
      "determ:  0.05443446303651717\n",
      "sampled:  0.05943453148101547\n"
     ]
    }
   ],
   "source": [
    "# 2\n",
    "mu = 0.003739\n",
    "print('determ: ', findBestAction_determ(mu, 0.25, 1., np.log).x[0] )\n",
    "print('sampled: ', findBestAction(mu, 0.25, 1., np.log).x[0] )"
   ]
  },
  {
   "cell_type": "markdown",
   "id": "0d187a5f",
   "metadata": {},
   "source": [
    "I'm not sure about what happened here. "
   ]
  },
  {
   "cell_type": "code",
   "execution_count": 252,
   "id": "1f056b7e",
   "metadata": {
    "deletable": false,
    "editable": false,
    "run_control": {
     "frozen": true
    }
   },
   "outputs": [
    {
     "name": "stdout",
     "output_type": "stream",
     "text": [
      "determ:  0.01266463038128612\n",
      "sampled:  0.5\n"
     ]
    }
   ],
   "source": [
    "# 3\n",
    "sigma = 1.000000\n",
    "print('determ: ', findBestAction_determ(0.02, sigma, 1., np.log).x[0] )\n",
    "print('sampled: ', findBestAction(0.02, sigma, 1., np.log).x[0] )"
   ]
  },
  {
   "cell_type": "markdown",
   "id": "d4edfecf",
   "metadata": {},
   "source": [
    "Here, the optimizer failed in the reverse direction, for the sampled condition (at least some fraction of the time)"
   ]
  },
  {
   "cell_type": "code",
   "execution_count": 253,
   "id": "be5377d0",
   "metadata": {
    "deletable": false,
    "editable": false,
    "run_control": {
     "frozen": true
    }
   },
   "outputs": [
    {
     "name": "stdout",
     "output_type": "stream",
     "text": [
      "determ:  0.025983048799755992\n",
      "sampled:  0.5\n"
     ]
    }
   ],
   "source": [
    "# 4\n",
    "sigma = 0.774264\n",
    "print('determ: ', findBestAction_determ(0.02, sigma, 1., np.log).x[0] )\n",
    "print('sampled: ', findBestAction(0.02, sigma, 1., np.log).x[0] )"
   ]
  },
  {
   "cell_type": "markdown",
   "id": "a4f5ef72",
   "metadata": {},
   "source": [
    "Same"
   ]
  },
  {
   "cell_type": "code",
   "execution_count": 257,
   "id": "2e039378",
   "metadata": {
    "deletable": false,
    "editable": false,
    "run_control": {
     "frozen": true
    }
   },
   "outputs": [
    {
     "name": "stdout",
     "output_type": "stream",
     "text": [
      "determ:  0.2539903784894446\n",
      "sampled:  0.25624318439353466\n"
     ]
    }
   ],
   "source": [
    "# 5\n",
    "sigma = 0.278256\n",
    "print('determ: ', findBestAction_determ(0.02, sigma, 1., np.log).x[0] )\n",
    "print('sampled: ', findBestAction(0.02, sigma, 1., np.log).x[0] )"
   ]
  },
  {
   "cell_type": "markdown",
   "id": "ca170fe9",
   "metadata": {},
   "source": [
    "Another example that is not easy to explain."
   ]
  },
  {
   "cell_type": "markdown",
   "id": "02e07b1f",
   "metadata": {},
   "source": [
    "## Step 3: Moving on to the training\n",
    "\n",
    "These are important caveats to keep in mind. Especially the failure mode of the ground truth, but also the level of closeness that we can demand of the ground truth solution."
   ]
  },
  {
   "cell_type": "code",
   "execution_count": 261,
   "id": "abd3469b",
   "metadata": {},
   "outputs": [],
   "source": [
    "import glob\n",
    "from agents import PolicyLearning\n",
    "\n",
    "checkpointFileNames = glob.glob('lightning_logs/dynamicSweep_mean*/*')\n",
    "\n",
    "models = [PolicyLearning.load_from_checkpoint(ckpFile) for ckpFile in checkpointFileNames]"
   ]
  },
  {
   "cell_type": "code",
   "execution_count": 346,
   "id": "39813d77",
   "metadata": {},
   "outputs": [
    {
     "data": {
      "text/plain": [
       "Text(0.5, 1.0, 'Wealth = 100')"
      ]
     },
     "execution_count": 346,
     "metadata": {},
     "output_type": "execute_result"
    },
    {
     "data": {
      "image/png": "[encoded data removed]",
      "text/plain": [
       "<Figure size 600x300 with 2 Axes>"
      ]
     },
     "metadata": {},
     "output_type": "display_data"
    }
   ],
   "source": [
    "import torch\n",
    "mus = []\n",
    "theory = []\n",
    "learned1 = []\n",
    "learned10 = []\n",
    "\n",
    "\n",
    "\n",
    "for model in models:\n",
    "    mus.append( model.hparams.mu )\n",
    "    theory.append(  findBestAction_determ(model.hparams.mu, model.hparams.sigma, 1., np.sqrt).x[0] )\n",
    "    learned1.append( model.actionStatistics( torch.tensor([0.5, 0.5, 9.]))[0].item() )\n",
    "    learned10.append( model.actionStatistics( torch.tensor([50., 50., 9.]))[0].item() )\n",
    "\n",
    "figsize(6, 3)    \n",
    "plt.subplots(1,2)\n",
    "\n",
    "plt.subplot(1,2,1)\n",
    "plt.semilogx(mus, theory, 'x')\n",
    "plt.semilogx(mus, learned1, '.')\n",
    "\n",
    "plt.subplot(1,2,2)\n",
    "plt.semilogx(mus, theory, 'x')\n",
    "plt.semilogx(mus, learned10, '.')\n",
    "plt.title('Wealth = 100')"
   ]
  },
  {
   "cell_type": "markdown",
   "id": "9a3ab575",
   "metadata": {},
   "source": [
    "### Some observations from this experiment\n",
    "\n",
    "1. First of all, the results aren't great, but they do show some of the right trend.\n",
    "\n",
    "2. The learned solutions show a strong attraction to 0 or 1, with most of the results seemingly randomly scattered around these values. In the first plot, there is even a 0.5 case, solution for one of the small mus, indicating that this failure mode is present here."
   ]
  },
  {
   "cell_type": "code",
   "execution_count": 347,
   "id": "e93a9b1e",
   "metadata": {},
   "outputs": [
    {
     "data": {
      "text/plain": [
       "Text(0.5, 1.0, 'Allocation effect - high wealth')"
      ]
     },
     "execution_count": 347,
     "metadata": {},
     "output_type": "execute_result"
    },
    {
     "data": {
      "image/png": "[encoded data removed]",
      "text/plain": [
       "<Figure size 1200x300 with 4 Axes>"
      ]
     },
     "metadata": {},
     "output_type": "display_data"
    }
   ],
   "source": [
    "figsize(12,3)\n",
    "plt.subplots(1, 4)\n",
    "\n",
    "plt.subplot(1,4,1)\n",
    "wealths = np.logspace(-1, 2, 20)\n",
    "for model in models:\n",
    "    results = []\n",
    "    for wealth in wealths:\n",
    "        results.append( model.actionStatistics( torch.tensor([wealth*0.5, wealth*0.5, 9.], dtype=torch.float))[0].item()  )\n",
    "    plt.semilogx(wealths, results)\n",
    "\n",
    "plt.title('Wealth effect')\n",
    "\n",
    "\n",
    "plt.subplot(1,4,2)\n",
    "times = np.linspace(1., 9, 9)\n",
    "for model in models:\n",
    "    results = []\n",
    "    for time in times:\n",
    "        results.append( model.actionStatistics( torch.tensor([0.5, 0.5, time], dtype=torch.float))[0].item()  )\n",
    "    plt.plot(times, results)\n",
    "\n",
    "plt.title('Time effect')\n",
    "\n",
    "\n",
    "plt.subplot(1,4,3)\n",
    "allocations = np.linspace(0., 1, 13)\n",
    "for model in models:\n",
    "    results = []\n",
    "    for allocation in allocations:\n",
    "        results.append( model.actionStatistics( torch.tensor([1*allocation, 1*(1-allocation), 9.], dtype=torch.float))[0].item()  )\n",
    "    plt.plot(allocations, results)\n",
    "\n",
    "plt.title('Allocation effect - low wealth')\n",
    "\n",
    "plt.subplot(1,4,4)\n",
    "allocations = np.linspace(0., 1, 13)\n",
    "for model in models:\n",
    "    results = []\n",
    "    for allocation in allocations:\n",
    "        results.append( model.actionStatistics( torch.tensor([20*allocation, 20*(1-allocation), 9.], dtype=torch.float))[0].item()  )\n",
    "    plt.plot(allocations, results)\n",
    "\n",
    "plt.title('Allocation effect - high wealth')"
   ]
  },
  {
   "cell_type": "markdown",
   "id": "5598153c",
   "metadata": {},
   "source": [
    "These learned effects are very difficult to get much out of. Some show drastic effects, while others differ little. Red, orange, purple, and blue, in particular show the biggest effect.\n",
    "\n",
    "- One thing that we can conclude is that _high wealth_ seems to be a problem: the networks probably haven't seen much of this scenario, and fail to generalize here.\n"
   ]
  },
  {
   "cell_type": "markdown",
   "id": "f259eb8e",
   "metadata": {},
   "source": [
    "### Need to improve the learners.\n",
    "\n",
    "Starting by simplifying them to learn constant policies. Constraining the possible policies that can be learned should make the learning task easier. Does this help?\n",
    "\n",
    "\n"
   ]
  },
  {
   "cell_type": "markdown",
   "id": "744daaa6",
   "metadata": {},
   "source": [
    "## Constant learner"
   ]
  },
  {
   "cell_type": "code",
   "execution_count": 22,
   "id": "47f4f66d",
   "metadata": {},
   "outputs": [
    {
     "data": {
      "text/plain": [
       "Text(0.5, 1.0, 'Learned Confidence')"
      ]
     },
     "execution_count": 22,
     "metadata": {},
     "output_type": "execute_result"
    },
    {
     "data": {
      "image/png": "[encoded data removed]",
      "text/plain": [
       "<Figure size 800x400 with 2 Axes>"
      ]
     },
     "metadata": {},
     "output_type": "display_data"
    }
   ],
   "source": [
    "import glob\n",
    "from agents import ConstantLearner\n",
    "checkpointFileNames = glob.glob('lightning_logs/constantLearnerSweep/*/*')\n",
    "\n",
    "models = [ConstantLearner.load_from_checkpoint(ckpFile) for ckpFile in checkpointFileNames]\n",
    "\n",
    "mus = []\n",
    "theory = []\n",
    "learned = []\n",
    "confidence = []\n",
    "\n",
    "for model in models:\n",
    "    mus.append( model.hparams.mu )\n",
    "    theory.append(  findBestAction_determ(model.hparams.mu, model.hparams.sigma, 1., np.sqrt).x[0] )\n",
    "    learned.append( model.actionStatistics( torch.tensor([0.5, 0.5, 9.]))[0].item() )\n",
    "    confidence.append( model.forward( torch.tensor([0.5, 0.5, 9.])).sum().item() )\n",
    "\n",
    "figsize(8, 4)\n",
    "plt.subplots(1,2)\n",
    "\n",
    "plt.subplot(1,2,1)\n",
    "plt.semilogx(mus, theory, 'x')\n",
    "plt.semilogx(mus, learned, '.')\n",
    "plt.xlabel('GBM mean')\n",
    "plt.ylabel('action')\n",
    "plt.title('Learned average action, constant actions')\n",
    "\n",
    "plt.subplot(1,2,2)\n",
    "plt.semilogx(mus, confidence,'x')\n",
    "plt.xlabel('GBM mean')\n",
    "plt.ylabel('Confidence')\n",
    "plt.title('Learned Confidence')\n"
   ]
  },
  {
   "cell_type": "markdown",
   "id": "2f0a5703",
   "metadata": {},
   "source": [
    "The learned policies are ok. The mean tracks the ground truth reasonably well. However, considering how easy the learning task is, I would like to see better performance.\n",
    "\n",
    "Also, the confidence (that is to say, the sum of the two parameters) doesn't increase as much as I would like, keeping the policy pretty stochastic. \n",
    "\n",
    "Some ideas for improvement\n",
    "1. simply train for longer\n",
    "\n",
    "2. change the stochastic policy\n",
    "\n",
    "3. parameterize directly with a proportion and confidence\n",
    "\n",
    "4. give the learners a stronger signal\n",
    "    - use a parameter range with a greater range of expected utilities\n",
    "    - simply multiply the utility by a large number to create greater linear differences\n"
   ]
  },
  {
   "cell_type": "markdown",
   "id": "187e1d00",
   "metadata": {},
   "source": [
    "## Exploring other parameter ranges"
   ]
  },
  {
   "cell_type": "code",
   "execution_count": 6,
   "id": "6d051168",
   "metadata": {},
   "outputs": [
    {
     "name": "stderr",
     "output_type": "stream",
     "text": [
      "/Users/luke/Documents/researchProjects/portfolioRL/groundTruth.py:37: IntegrationWarning: The algorithm does not converge.  Roundoff error is detected\n",
      "  in the extrapolation table.  It is assumed that the requested tolerance\n",
      "  cannot be achieved, and that the returned result (if full_output = 1) is \n",
      "  the best which can be obtained.\n",
      "  return -quad(toIntegrate, 0., np.inf)[0]  # negative to minimize\n",
      "/Users/luke/Documents/researchProjects/portfolioRL/groundTruth.py:37: IntegrationWarning: The algorithm does not converge.  Roundoff error is detected\n",
      "  in the extrapolation table.  It is assumed that the requested tolerance\n",
      "  cannot be achieved, and that the returned result (if full_output = 1) is \n",
      "  the best which can be obtained.\n",
      "  return -quad(toIntegrate, 0., np.inf)[0]  # negative to minimize\n"
     ]
    },
    {
     "data": {
      "text/plain": [
       "Text(0, 0.5, 'Optimal action')"
      ]
     },
     "execution_count": 6,
     "metadata": {},
     "output_type": "execute_result"
    },
    {
     "data": {
      "image/png": "[encoded data removed]",
      "text/plain": [
       "<Figure size 300x300 with 1 Axes>"
      ]
     },
     "metadata": {},
     "output_type": "display_data"
    }
   ],
   "source": [
    "mus = np.logspace(-1, 1.2, 12)\n",
    "actions_sqrt = []\n",
    "actions_log = []\n",
    "\n",
    "figsize(3,3)\n",
    "\n",
    "for mu in mus:\n",
    "    actions_sqrt.append( findBestAction_determ(mu, 1.8, 1., np.sqrt).x[0] )\n",
    "    actions_log.append( findBestAction_determ(mu, 1.8, 1., np.log).x[0] )\n",
    "    \n",
    "plt.semilogx(mus, actions_sqrt, '.')\n",
    "plt.semilogx(mus, actions_log, '.')\n",
    "plt.ylim([-0.05, 1.05])\n",
    "plt.xlabel('Mean return')\n",
    "plt.ylabel('Optimal action')"
   ]
  },
  {
   "cell_type": "markdown",
   "id": "088c0ca9",
   "metadata": {},
   "source": [
    "Note that, as in notebook 1, the numerical ground-truth optimizer may be pre-emptively sticking to 1. Even so, this is a reasonable range to try learning with larger means and variances.\n",
    "\n",
    "!! I won't be using these parameter ranges for the rest of this notebook"
   ]
  },
  {
   "cell_type": "markdown",
   "id": "9904a99f",
   "metadata": {},
   "source": [
    "## 1000x Multiple of the utility function"
   ]
  },
  {
   "cell_type": "code",
   "execution_count": 19,
   "id": "4b38e863",
   "metadata": {},
   "outputs": [
    {
     "data": {
      "text/plain": [
       "Text(0.5, 1.0, 'Learned Confidence')"
      ]
     },
     "execution_count": 19,
     "metadata": {},
     "output_type": "execute_result"
    },
    {
     "data": {
      "image/png": "[encoded data removed]",
      "text/plain": [
       "<Figure size 800x400 with 2 Axes>"
      ]
     },
     "metadata": {},
     "output_type": "display_data"
    }
   ],
   "source": [
    "import glob\n",
    "from agents import ConstantLearner\n",
    "checkpointFileNames = glob.glob('lightning_logs/constantLearner_biggerUtilSweep/*/*')\n",
    "\n",
    "models = [ConstantLearner.load_from_checkpoint(ckpFile) for ckpFile in checkpointFileNames]\n",
    "\n",
    "mus = []\n",
    "theory = []\n",
    "learned = []\n",
    "confidence = []\n",
    "\n",
    "for model in models:\n",
    "    mus.append( model.hparams.mu )\n",
    "    theory.append(  findBestAction_determ(model.hparams.mu, model.hparams.sigma, 1., np.sqrt).x[0] )\n",
    "    learned.append( model.actionStatistics( torch.tensor([0.5, 0.5, 9.]))[0].item() )\n",
    "    confidence.append( model.forward( torch.tensor([0.5, 0.5, 9.])).sum().item() )\n",
    "\n",
    "\n",
    "    \n",
    "figsize(8, 4)\n",
    "plt.subplots(1,2)\n",
    "\n",
    "plt.subplot(1,2,1)\n",
    "plt.semilogx(mus, theory, 'x')\n",
    "plt.semilogx(mus, learned, '.')\n",
    "plt.xlabel('GBM mean')\n",
    "plt.ylabel('action')\n",
    "plt.title('Learned average action')\n",
    "\n",
    "plt.subplot(1,2,2)\n",
    "plt.semilogx(mus, confidence,'x')\n",
    "plt.xlabel('GBM mean')\n",
    "plt.ylabel('Confidence')\n",
    "plt.title('Learned Confidence')"
   ]
  },
  {
   "cell_type": "markdown",
   "id": "461ecac3",
   "metadata": {},
   "source": [
    "This looks about the same as previously, possibly a little worse. Overall, I don't think scaling the utility function helps. \n",
    "\n",
    " - It still struggles when the optimal actions are in the mid-ranges.\n",
    " \n",
    " - Nicely, the confidence (a proxy for how concentrated the distribution is) aligns with the accuracy slump in the middle of the range.\n",
    "\n"
   ]
  },
  {
   "cell_type": "code",
   "execution_count": 35,
   "id": "323f6d22",
   "metadata": {},
   "outputs": [
    {
     "data": {
      "text/html": [
       "<iframe src=\"https://wandb.ai/lrast/portfolioRL/sweeps/yyltsfau?jupyter=true\" style=\"border:none;width:100%;height:420px;\"></iframe>"
      ],
      "text/plain": [
       "<Sweep lrast/portfolioRL/yyltsfau (FINISHED)>"
      ]
     },
     "execution_count": 35,
     "metadata": {},
     "output_type": "execute_result"
    }
   ],
   "source": [
    "import wandb\n",
    "wandbapi = wandb.Api()\n",
    "\n",
    "wandbapi.sweep('lrast/portfolioRL/yyltsfau')"
   ]
  },
  {
   "cell_type": "markdown",
   "id": "fe2e26a2",
   "metadata": {},
   "source": [
    "Looking at the learning curves, we can also see that the certainty has not plateaued by any means in any of the conditions. It is still actively being learned.\n",
    "\n",
    "### This raises the idea of using certainty as a stopping condition.\n",
    "\n",
    "1. We know that, in the non-adversarial setting, the optimal policy should be deterministic.\n",
    "2. Additionally, once the policy get sufficiently concentrated, there is little chance of it changing, as it is sampling mostly from a constant policy anyway.\n",
    "\n",
    "This seems like a reasonable stopping condition for REINFORCE in a deterministic setting."
   ]
  },
  {
   "cell_type": "code",
   "execution_count": 53,
   "id": "324fedd6",
   "metadata": {},
   "outputs": [
    {
     "data": {
      "text/plain": [
       "<matplotlib.legend.Legend at 0x15b598730>"
      ]
     },
     "execution_count": 53,
     "metadata": {},
     "output_type": "execute_result"
    },
    {
     "data": {
      "image/png": "[encoded data removed]",
      "text/plain": [
       "<Figure size 300x300 with 1 Axes>"
      ]
     },
     "metadata": {},
     "output_type": "display_data"
    }
   ],
   "source": [
    "from scipy.stats import beta\n",
    "\n",
    "xs = np.linspace(0,1, 100)\n",
    "figsize(3,3)\n",
    "for confidence in np.logspace(0, 3, 10):\n",
    "    plt.plot(xs, beta(0.8*confidence, 0.2*confidence).pdf(xs), label=str(confidence)[0:4]  )\n",
    "\n",
    "plt.tight_layout()\n",
    "plt.legend()"
   ]
  },
  {
   "cell_type": "markdown",
   "id": "9737f3c0",
   "metadata": {},
   "source": [
    "The distribution isn't really all that concentrated until the confidence is around 100. 20 is too low. High double digits may by enough"
   ]
  },
  {
   "cell_type": "code",
   "execution_count": 3,
   "id": "8e30eb3c",
   "metadata": {},
   "outputs": [
    {
     "data": {
      "text/html": [
       "<iframe src=\"https://wandb.ai/lrast/portfolioRL/runs/mnaloawq?jupyter=true\" style=\"border:none;width:100%;height:420px;\"></iframe>"
      ],
      "text/plain": [
       "<Run lrast/portfolioRL/mnaloawq (running)>"
      ]
     },
     "execution_count": 3,
     "metadata": {},
     "output_type": "execute_result"
    }
   ],
   "source": [
    "wandbapi.run('lrast/portfolioRL/mnaloawq')"
   ]
  },
  {
   "cell_type": "markdown",
   "id": "5299c816",
   "metadata": {},
   "source": [
    "### Even training for a very long time, we don't get the certainty to go that high.\n",
    "\n",
    "In the above case ^, low mu, I trained for 26k epochs, and only get up to ~10 certainty.\n",
    "\n",
    "* It's possible that another limiting factor is the number of samples per training epoch: if this is too low (and the variance of returns too high), our samples are noisy and, therefore, never forced to converge to the deterministic policy.\n",
    "\n",
    "I'll try upping that too.\n",
    "\n",
    "* Generally, I think scheduling the batch size is probably a good idea for REINFORCE. This is essentially an exploration / exploitation parameter\n"
   ]
  },
  {
   "cell_type": "code",
   "execution_count": 4,
   "id": "5d7a8e56",
   "metadata": {},
   "outputs": [
    {
     "data": {
      "text/html": [
       "<iframe src=\"https://wandb.ai/lrast/portfolioRL/runs/32m1w6cn?jupyter=true\" style=\"border:none;width:100%;height:420px;\"></iframe>"
      ],
      "text/plain": [
       "<Run lrast/portfolioRL/32m1w6cn (finished)>"
      ]
     },
     "execution_count": 4,
     "metadata": {},
     "output_type": "execute_result"
    }
   ],
   "source": [
    "wandbapi.run('lrast/portfolioRL/32m1w6cn')"
   ]
  },
  {
   "cell_type": "markdown",
   "id": "d471069a",
   "metadata": {},
   "source": [
    "### Larger batch size -> higher certainty and nicer learning curves. \n",
    "\n",
    "However, it doesn't decrease the need for a large number of training epochs.\n",
    "\n",
    "Note also that I'm using Adam as a learning rate scheduler. I wonder whether the a simpler learning rate scheduler (or no scheduler at all) combined with batch size scheduling might be help.\n"
   ]
  },
  {
   "cell_type": "markdown",
   "id": "704e1ab3",
   "metadata": {},
   "source": [
    "### Pilot experiments:\n",
    "\n",
    "`lrast/portfolioRL/1kowpadb`: batch size scheduling, 100% ground truth\n",
    "\n",
    "`lrast/portfolioRL/3lqmejt3`: batch size scheduling, ~30% ground truth\n",
    "\n",
    "`lrast/portfolioRL/bnvnnqzu`: simple SGD\n",
    "\n",
    "`lrast/portfolioRL/dc3lymyf`: simple SGD: lr$=10^{-6}$\n",
    "\n",
    "\n",
    " - Batch size scheduling alone seems to have little effect on certainty learning.\n",
    " - Naive SGD suffers from the _opposite_ problem from Adam: the certainty becomes massive after the first epoch, so further learning is extremely difficult. This is promising.\n",
    " - Simple learning rate adjustment seems to only delay the problem.\n",
    " \n",
    "### more hyper-parameter fiddling\n",
    "\n",
    "lr$=10^{-12}$, replicates\n",
    "\n",
    "\n",
    "`lrast/portfolioRL/1x17ybth`\n",
    "\n",
    " - very nice certainty curves. The policy seems to sample well, but doesn't converge to ground truth.\n",
    " - In fact, the mean action seems to follow a stochastic trajectory, as new batches come in.\n",
    " \n",
    "`lrast/portfolioRL/1mhpyd5q`, `lrast/portfolioRL/117a1t15`:\n",
    "\n",
    " - massive initial certainty\n",
    " \n",
    "`lrast/portfolioRL/1dz0w96a`: lr$=10^{-12}$\n",
    "\n",
    " - large certainty jump. Still retains the ability to explore somewhat, but doesn't converge to the ground truth\n",
    "\n",
    "\n",
    "So, adjusting the learning rate _can_ stochastically solve the certainty learning problem, but this does not always work, where it does there are convergence issues, and it never really finds the ground truth results that we want."
   ]
  },
  {
   "cell_type": "markdown",
   "id": "975ef83f",
   "metadata": {},
   "source": [
    "### It's clear to me that this is a hyper-parameter optimization problem.\n",
    "\n",
    "Looking into existing ideas on training policy gradient algorithms, there are a couple of interesting ideas for variance reduction during learning that may be useful here. \n",
    "\n",
    "1. Introducing a discounting factor. For this case, since all of the reward is coming at the end, this is equivalent to scaling the learning rate (generally, down by a lot).\n",
    "\n",
    "2. Introducing a baseline, either a value function, or a simple estimate of average reward is also supposed to decrease variance.\n",
    "\n",
    "3. Regularizing the objective function by KL distance between old and new policy. This keeps the policy changes from being too rapid, and is explicitly designed to address the problem that we see here, of early updates trapping the policy. (That said, the mean action is able to change a surprising amount even at high certainty levels)\n"
   ]
  },
  {
   "cell_type": "markdown",
   "id": "4204f44f",
   "metadata": {},
   "source": [
    "### While doing some more writing, I found an issue\n",
    "\n",
    "Namely, that I was using the total loss rather than the mean. This makes the loss explode by a factor of (number of steps) x (batch size).\n",
    "\n",
    "With that fix, we're back to (overly) slow learning of the parameters. `lrast/portfolioRL/175sdlob`\n",
    "`lrast/portfolioRL/70deibk1`\n",
    "\n",
    "I also started tracking the mean utility from runs (which I should have been doing from the beginning). This shows a key difficulty in the learning: the mean utility is noisy and hangs around 1. Since 1 is the utility for 0% allocation to the risky asset, it is not really surprising that learners often fall into this solution. I need a way to decrease the noise. Bigger batch sizes and baselines come to mind. One idea for a baseline is to use the utility if I cash-out now. That is, utility of the current state.\n",
    "\n",
    "This really seems to stabilize the learning, but it still floats near zero."
   ]
  },
  {
   "cell_type": "code",
   "execution_count": 2,
   "id": "e52a502f",
   "metadata": {},
   "outputs": [
    {
     "name": "stdout",
     "output_type": "stream",
     "text": [
      "[0.31727411]\n",
      "[0.31495428]\n",
      "[0.30712127]\n",
      "[0.29665147]\n"
     ]
    }
   ],
   "source": [
    "from groundTruth import findBestAction_determ, findBestAction\n",
    "\n",
    "print( findBestAction_determ(0.01, 0.25, 1., np.sqrt).x )\n",
    "print( findBestAction_determ(0.01*2, 0.25*(2**0.5), 1., np.sqrt).x )\n",
    "print( findBestAction_determ(0.01*5, 0.25*(5**0.5), 1., np.sqrt).x )\n",
    "print( findBestAction_determ(0.01*10, 0.25*(10**0.5), 1., np.sqrt).x )"
   ]
  },
  {
   "cell_type": "markdown",
   "id": "fdae143c",
   "metadata": {},
   "source": [
    "Yep, that's right, theres a time effect here that I failed to see when setting up."
   ]
  },
  {
   "cell_type": "markdown",
   "id": "b893c5a8",
   "metadata": {},
   "source": [
    "## Now I understand what I've been seeing\n",
    "\n",
    "1. The failure to converge toward deterministic policies for small $\\mu$ values was a direct result of the over-simplification of policy representations. By using constant policies, they were no longer able to match the optimal policies, and so remained stochastic. Large $\\mu$ values had 100% risky allocation at all times, so they converged just fine. This also explains the consistent _underestimation_ relative to the one-step optimal solution.\n",
    "\n",
    "2. The baseline is really nice for reducing variance during the learning process. Really indisposable. This is a key take-away.\n",
    "\n",
    "3. I'm not sure that fiddling with learning rate or batch size scheduling is worthwhile for the moment. The batch size effects were exacerbated by using sums rather than means across batches. This ties batch size into learning rate.\n",
    "\n",
    "\n"
   ]
  },
  {
   "cell_type": "markdown",
   "id": "176aa275-8fa2-4f38-b1be-8351e2280280",
   "metadata": {},
   "source": [
    "### There is also the issue of the heavy-tailed nature of the distribution\n",
    "\n",
    "This seems to make learning difficult. For example, even when the average return is large, many of the samples are still loosing money. For a practical learner, the batch size needs to be large to see the mean effect, but simultaneously we know that neural networks learn more slowly for larger batch sizes, so the two effect are in tension with one-another.\n",
    "\n",
    "REINFORCE scales the learning rate by the reward, so heavy tailed reward distributions are inherited by the learning curves, which become very 'jumpy', changing by large amounts on a small number of trials. See the run below\n"
   ]
  },
  {
   "cell_type": "code",
   "execution_count": 3,
   "id": "b2fc429c-9b21-4b97-bd30-ad23e27b68d7",
   "metadata": {},
   "outputs": [
    {
     "data": {
      "text/html": [
       "<iframe src=\"https://wandb.ai/lrast/portfolioRL/runs/27alzp0k?jupyter=true\" style=\"border:none;width:100%;height:420px;\"></iframe>"
      ],
      "text/plain": [
       "<Run lrast/portfolioRL/27alzp0k (finished)>"
      ]
     },
     "execution_count": 3,
     "metadata": {},
     "output_type": "execute_result"
    }
   ],
   "source": [
    "wandbapi = wandb.Api()\n",
    "wandbapi.run('lrast/portfolioRL/27alzp0k')"
   ]
  },
  {
   "cell_type": "markdown",
   "id": "7b105674-4238-4887-85b8-40a3d3486bec",
   "metadata": {},
   "source": [
    "- I wonder whether moving to actor-critic and tracking a value function would be useful for alleviating this issue. After all, the value function provides a way to track previously seen situations that are similar to one that we are looking at.\n",
    "\n",
    "- Could this jumpiness contribute to the failure to converge to high certainty policies? Aren't there convergence guarantees for policy gradient methods?"
   ]
  },
  {
   "cell_type": "code",
   "execution_count": null,
   "id": "4c7a239d-37c4-4c19-a6c3-d422858171fc",
   "metadata": {},
   "outputs": [],
   "source": []
  },
  {
   "cell_type": "code",
   "execution_count": null,
   "id": "fd9c294e-80aa-4d6d-b428-4ab6a650e18e",
   "metadata": {},
   "outputs": [],
   "source": []
  }
 ],
 "metadata": {
  "kernelspec": {
   "display_name": "Python 3",
   "language": "python",
   "name": "python3"
  },
  "language_info": {
   "codemirror_mode": {
    "name": "ipython",
    "version": 3
   },
   "file_extension": ".py",
   "mimetype": "text/x-python",
   "name": "python",
   "nbconvert_exporter": "python",
   "pygments_lexer": "ipython3",
   "version": "3.9.16"
  }
 },
 "nbformat": 4,
 "nbformat_minor": 5
}
