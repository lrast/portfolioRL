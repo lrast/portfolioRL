{
 "cells": [
  {
   "cell_type": "markdown",
   "id": "1b64a1ec",
   "metadata": {},
   "source": [
    "# Simple properties of the learners: do they find the correct constant policies?"
   ]
  },
  {
   "cell_type": "code",
   "execution_count": 69,
   "id": "993b1577",
   "metadata": {},
   "outputs": [],
   "source": [
    "import matplotlib as mpl\n",
    "import matplotlib.pyplot as plt\n",
    "%matplotlib inline\n",
    "from IPython.core.pylabtools import figsize\n",
    "\n",
    "from ipywidgets import widgets\n",
    "from IPython.display import display\n",
    "\n",
    "import numpy as np\n",
    "import pandas as pd"
   ]
  },
  {
   "cell_type": "markdown",
   "id": "59c859b3",
   "metadata": {},
   "source": [
    "## Step 1: finding a parameter range that explores different policies\n"
   ]
  },
  {
   "cell_type": "code",
   "execution_count": 2,
   "id": "6f215857",
   "metadata": {},
   "outputs": [],
   "source": [
    "%run groundTruth.py"
   ]
  },
  {
   "cell_type": "code",
   "execution_count": 78,
   "id": "672bfc7c",
   "metadata": {
    "deletable": false,
    "editable": false
   },
   "outputs": [
    {
     "data": {
      "text/plain": [
       "Text(0, 0.5, 'Optimal action')"
      ]
     },
     "execution_count": 78,
     "metadata": {},
     "output_type": "execute_result"
    },
    {
     "data": {
      "image/png": "[encoded data removed]",
      "text/plain": [
       "<Figure size 300x300 with 1 Axes>"
      ]
     },
     "metadata": {},
     "output_type": "display_data"
    }
   ],
   "source": [
    "mus = np.logspace(-3, -0.9, 12)\n",
    "actions_sqrt = []\n",
    "actions_log = []\n",
    "\n",
    "figsize(3,3)\n",
    "\n",
    "for mu in mus:\n",
    "    actions_sqrt.append( findBestAction_determ(mu, 0.25, 1., np.sqrt).x[0] )\n",
    "    actions_log.append( findBestAction_determ(mu, 0.25, 1., np.log).x[0] )\n",
    "    \n",
    "plt.semilogx(mus, actions_sqrt, '.')\n",
    "plt.semilogx(mus, actions_log, '.')\n",
    "plt.ylim([-0.05, 1.05])\n",
    "plt.xlabel('Mean return')\n",
    "plt.ylabel('Optimal action')"
   ]
  },
  {
   "cell_type": "markdown",
   "id": "51af646e",
   "metadata": {},
   "source": [
    "### This is a nice range of means that allows both utility functions to explore a range of optimal allocations"
   ]
  },
  {
   "cell_type": "code",
   "execution_count": 79,
   "id": "dc6288ab",
   "metadata": {
    "deletable": false,
    "editable": false
   },
   "outputs": [
    {
     "data": {
      "text/plain": [
       "Text(0, 0.5, 'Optimal action')"
      ]
     },
     "execution_count": 79,
     "metadata": {},
     "output_type": "execute_result"
    },
    {
     "data": {
      "image/png": "[encoded data removed]",
      "text/plain": [
       "<Figure size 300x300 with 1 Axes>"
      ]
     },
     "metadata": {},
     "output_type": "display_data"
    }
   ],
   "source": [
    "sigmas = np.logspace(-1, 0., 10)\n",
    "actions_sqrt = []\n",
    "actions_log = []\n",
    "\n",
    "figsize(3,3)\n",
    "\n",
    "for sigma in sigmas:\n",
    "    actions_sqrt.append( findBestAction_determ(0.02, sigma, 1., np.sqrt).x[0] )\n",
    "    actions_log.append( findBestAction_determ(0.02, sigma, 1., np.log).x[0] )\n",
    "    \n",
    "plt.semilogx(sigmas, actions_sqrt, '.')\n",
    "plt.semilogx(sigmas, actions_log, '.')\n",
    "plt.ylim([-0.05, 1.05])\n",
    "plt.xlabel('StDev of return')\n",
    "plt.ylabel('Optimal action')"
   ]
  },
  {
   "cell_type": "markdown",
   "id": "8d390024",
   "metadata": {},
   "source": [
    "### This is a good range of standard deviations."
   ]
  },
  {
   "cell_type": "markdown",
   "id": "68f6fcaf",
   "metadata": {},
   "source": [
    "## Step 2: Double checking against the sampling approach\n",
    "\n",
    "The sampler uses the same statistics as the learners. Double checking consistency here."
   ]
  },
  {
   "cell_type": "code",
   "execution_count": null,
   "id": "1f7c5ec1",
   "metadata": {
    "deletable": false,
    "editable": false,
    "run_control": {
     "frozen": true
    }
   },
   "outputs": [],
   "source": [
    "# this is slow, but its worth double checking\n",
    "\n",
    "from scipy.stats import ttest_1samp\n",
    "\n",
    "muDifferences = pd.DataFrame(columns=['mu', 'util', 'p', 'diff'])\n",
    "sigmaDifferences = pd.DataFrame(columns=['sigma', 'util', 'p', 'diff'])\n",
    "\n",
    "\n",
    "for mu in mus:\n",
    "    for utilityFn in [np.sqrt, np.log]:\n",
    "        baseline = findBestAction_determ(mu, 0.25, 1., utilityFn).x[0]\n",
    "        samples = []\n",
    "        for sampleN in range(200):\n",
    "            samples.append( findBestAction(mu, 0.25, 1., utilityFn).x[0] )\n",
    "\n",
    "        print('m', mu)\n",
    "        P = ttest_1samp(samples, baseline).pvalue\n",
    "        diff = np.mean(samples) - baseline\n",
    "        row = pd.DataFrame([{'mu': mu,'util':str(utilityFn),'p': P,'diff': diff}])\n",
    "        muDifferences = pd.concat( [muDifferences, row], ignore_index=True)\n",
    "        \n",
    "\n",
    "for sigma in sigmas:\n",
    "    for utilityFn in [np.sqrt, np.log]:\n",
    "        baseline = findBestAction_determ(0.02, sigma, 1., utilityFn).x[0]\n",
    "        samples = []\n",
    "        for sampleN in range(200):\n",
    "            samples.append( findBestAction(0.02, sigma, 1., utilityFn).x[0] )\n",
    "\n",
    "        print('s', sigma)\n",
    "        P = ttest_1samp(samples, baseline).pvalue\n",
    "        diff = np.mean(samples) - baseline\n",
    "        row = pd.DataFrame([{'sigma':sigma,'util':str(utilityFn), 'p': P, 'diff': diff}])\n",
    "        sigmaDifferences = pd.concat( [sigmaDifferences, row], ignore_index=True)\n",
    "        "
   ]
  },
  {
   "cell_type": "code",
   "execution_count": 155,
   "id": "47dc39e7",
   "metadata": {
    "deletable": false,
    "editable": false,
    "run_control": {
     "frozen": true
    }
   },
   "outputs": [
    {
     "data": {
      "text/html": [
       "<div>\n",
       "<style scoped>\n",
       "    .dataframe tbody tr th:only-of-type {\n",
       "        vertical-align: middle;\n",
       "    }\n",
       "\n",
       "    .dataframe tbody tr th {\n",
       "        vertical-align: top;\n",
       "    }\n",
       "\n",
       "    .dataframe thead th {\n",
       "        text-align: right;\n",
       "    }\n",
       "</style>\n",
       "<table border=\"1\" class=\"dataframe\">\n",
       "  <thead>\n",
       "    <tr style=\"text-align: right;\">\n",
       "      <th></th>\n",
       "      <th>mu</th>\n",
       "      <th>util</th>\n",
       "      <th>p</th>\n",
       "      <th>diff</th>\n",
       "    </tr>\n",
       "  </thead>\n",
       "  <tbody>\n",
       "    <tr>\n",
       "      <th>0</th>\n",
       "      <td>0.001000</td>\n",
       "      <td>&lt;ufunc 'sqrt'&gt;</td>\n",
       "      <td>2.953693e-09</td>\n",
       "      <td>4.891647e-03</td>\n",
       "    </tr>\n",
       "    <tr>\n",
       "      <th>1</th>\n",
       "      <td>0.001000</td>\n",
       "      <td>&lt;ufunc 'log'&gt;</td>\n",
       "      <td>3.664106e-02</td>\n",
       "      <td>-8.678654e-04</td>\n",
       "    </tr>\n",
       "    <tr>\n",
       "      <th>2</th>\n",
       "      <td>0.001552</td>\n",
       "      <td>&lt;ufunc 'sqrt'&gt;</td>\n",
       "      <td>9.424027e-08</td>\n",
       "      <td>4.664907e-03</td>\n",
       "    </tr>\n",
       "    <tr>\n",
       "      <th>3</th>\n",
       "      <td>0.001552</td>\n",
       "      <td>&lt;ufunc 'log'&gt;</td>\n",
       "      <td>1.484969e-01</td>\n",
       "      <td>-5.352116e-04</td>\n",
       "    </tr>\n",
       "    <tr>\n",
       "      <th>4</th>\n",
       "      <td>0.002409</td>\n",
       "      <td>&lt;ufunc 'sqrt'&gt;</td>\n",
       "      <td>5.581269e-04</td>\n",
       "      <td>3.049392e-03</td>\n",
       "    </tr>\n",
       "    <tr>\n",
       "      <th>5</th>\n",
       "      <td>0.002409</td>\n",
       "      <td>&lt;ufunc 'log'&gt;</td>\n",
       "      <td>3.246900e-01</td>\n",
       "      <td>-4.261821e-04</td>\n",
       "    </tr>\n",
       "    <tr>\n",
       "      <th>6</th>\n",
       "      <td>0.003739</td>\n",
       "      <td>&lt;ufunc 'sqrt'&gt;</td>\n",
       "      <td>1.511952e-08</td>\n",
       "      <td>4.609161e-03</td>\n",
       "    </tr>\n",
       "    <tr>\n",
       "      <th>7</th>\n",
       "      <td>0.003739</td>\n",
       "      <td>&lt;ufunc 'log'&gt;</td>\n",
       "      <td>1.662824e-23</td>\n",
       "      <td>4.541669e-03</td>\n",
       "    </tr>\n",
       "    <tr>\n",
       "      <th>8</th>\n",
       "      <td>0.005803</td>\n",
       "      <td>&lt;ufunc 'sqrt'&gt;</td>\n",
       "      <td>3.727911e-02</td>\n",
       "      <td>1.792862e-03</td>\n",
       "    </tr>\n",
       "    <tr>\n",
       "      <th>9</th>\n",
       "      <td>0.005803</td>\n",
       "      <td>&lt;ufunc 'log'&gt;</td>\n",
       "      <td>3.009851e-16</td>\n",
       "      <td>3.518838e-03</td>\n",
       "    </tr>\n",
       "    <tr>\n",
       "      <th>10</th>\n",
       "      <td>0.009006</td>\n",
       "      <td>&lt;ufunc 'sqrt'&gt;</td>\n",
       "      <td>1.581377e-01</td>\n",
       "      <td>1.141733e-03</td>\n",
       "    </tr>\n",
       "    <tr>\n",
       "      <th>11</th>\n",
       "      <td>0.009006</td>\n",
       "      <td>&lt;ufunc 'log'&gt;</td>\n",
       "      <td>8.929064e-03</td>\n",
       "      <td>1.070503e-03</td>\n",
       "    </tr>\n",
       "    <tr>\n",
       "      <th>12</th>\n",
       "      <td>0.013978</td>\n",
       "      <td>&lt;ufunc 'sqrt'&gt;</td>\n",
       "      <td>8.905024e-143</td>\n",
       "      <td>-5.296287e-02</td>\n",
       "    </tr>\n",
       "    <tr>\n",
       "      <th>13</th>\n",
       "      <td>0.013978</td>\n",
       "      <td>&lt;ufunc 'log'&gt;</td>\n",
       "      <td>6.462781e-04</td>\n",
       "      <td>1.383112e-03</td>\n",
       "    </tr>\n",
       "    <tr>\n",
       "      <th>14</th>\n",
       "      <td>0.021695</td>\n",
       "      <td>&lt;ufunc 'sqrt'&gt;</td>\n",
       "      <td>1.894783e-01</td>\n",
       "      <td>-1.002134e-03</td>\n",
       "    </tr>\n",
       "    <tr>\n",
       "      <th>15</th>\n",
       "      <td>0.021695</td>\n",
       "      <td>&lt;ufunc 'log'&gt;</td>\n",
       "      <td>8.168894e-01</td>\n",
       "      <td>1.010322e-04</td>\n",
       "    </tr>\n",
       "    <tr>\n",
       "      <th>16</th>\n",
       "      <td>0.033672</td>\n",
       "      <td>&lt;ufunc 'sqrt'&gt;</td>\n",
       "      <td>8.974363e-02</td>\n",
       "      <td>-1.110223e-16</td>\n",
       "    </tr>\n",
       "    <tr>\n",
       "      <th>17</th>\n",
       "      <td>0.033672</td>\n",
       "      <td>&lt;ufunc 'log'&gt;</td>\n",
       "      <td>1.471200e-01</td>\n",
       "      <td>5.988975e-04</td>\n",
       "    </tr>\n",
       "    <tr>\n",
       "      <th>18</th>\n",
       "      <td>0.052261</td>\n",
       "      <td>&lt;ufunc 'sqrt'&gt;</td>\n",
       "      <td>9.313967e-02</td>\n",
       "      <td>-6.650236e-14</td>\n",
       "    </tr>\n",
       "    <tr>\n",
       "      <th>19</th>\n",
       "      <td>0.052261</td>\n",
       "      <td>&lt;ufunc 'log'&gt;</td>\n",
       "      <td>1.397101e-04</td>\n",
       "      <td>-1.645432e-03</td>\n",
       "    </tr>\n",
       "    <tr>\n",
       "      <th>20</th>\n",
       "      <td>0.081113</td>\n",
       "      <td>&lt;ufunc 'sqrt'&gt;</td>\n",
       "      <td>5.303303e-06</td>\n",
       "      <td>-2.100875e-12</td>\n",
       "    </tr>\n",
       "    <tr>\n",
       "      <th>21</th>\n",
       "      <td>0.081113</td>\n",
       "      <td>&lt;ufunc 'log'&gt;</td>\n",
       "      <td>9.707092e-01</td>\n",
       "      <td>-4.440892e-16</td>\n",
       "    </tr>\n",
       "    <tr>\n",
       "      <th>22</th>\n",
       "      <td>0.125893</td>\n",
       "      <td>&lt;ufunc 'sqrt'&gt;</td>\n",
       "      <td>1.052952e-03</td>\n",
       "      <td>4.007888e-08</td>\n",
       "    </tr>\n",
       "    <tr>\n",
       "      <th>23</th>\n",
       "      <td>0.125893</td>\n",
       "      <td>&lt;ufunc 'log'&gt;</td>\n",
       "      <td>2.500565e-02</td>\n",
       "      <td>-9.532375e-13</td>\n",
       "    </tr>\n",
       "  </tbody>\n",
       "</table>\n",
       "</div>"
      ],
      "text/plain": [
       "          mu            util              p          diff\n",
       "0   0.001000  <ufunc 'sqrt'>   2.953693e-09  4.891647e-03\n",
       "1   0.001000   <ufunc 'log'>   3.664106e-02 -8.678654e-04\n",
       "2   0.001552  <ufunc 'sqrt'>   9.424027e-08  4.664907e-03\n",
       "3   0.001552   <ufunc 'log'>   1.484969e-01 -5.352116e-04\n",
       "4   0.002409  <ufunc 'sqrt'>   5.581269e-04  3.049392e-03\n",
       "5   0.002409   <ufunc 'log'>   3.246900e-01 -4.261821e-04\n",
       "6   0.003739  <ufunc 'sqrt'>   1.511952e-08  4.609161e-03\n",
       "7   0.003739   <ufunc 'log'>   1.662824e-23  4.541669e-03\n",
       "8   0.005803  <ufunc 'sqrt'>   3.727911e-02  1.792862e-03\n",
       "9   0.005803   <ufunc 'log'>   3.009851e-16  3.518838e-03\n",
       "10  0.009006  <ufunc 'sqrt'>   1.581377e-01  1.141733e-03\n",
       "11  0.009006   <ufunc 'log'>   8.929064e-03  1.070503e-03\n",
       "12  0.013978  <ufunc 'sqrt'>  8.905024e-143 -5.296287e-02\n",
       "13  0.013978   <ufunc 'log'>   6.462781e-04  1.383112e-03\n",
       "14  0.021695  <ufunc 'sqrt'>   1.894783e-01 -1.002134e-03\n",
       "15  0.021695   <ufunc 'log'>   8.168894e-01  1.010322e-04\n",
       "16  0.033672  <ufunc 'sqrt'>   8.974363e-02 -1.110223e-16\n",
       "17  0.033672   <ufunc 'log'>   1.471200e-01  5.988975e-04\n",
       "18  0.052261  <ufunc 'sqrt'>   9.313967e-02 -6.650236e-14\n",
       "19  0.052261   <ufunc 'log'>   1.397101e-04 -1.645432e-03\n",
       "20  0.081113  <ufunc 'sqrt'>   5.303303e-06 -2.100875e-12\n",
       "21  0.081113   <ufunc 'log'>   9.707092e-01 -4.440892e-16\n",
       "22  0.125893  <ufunc 'sqrt'>   1.052952e-03  4.007888e-08\n",
       "23  0.125893   <ufunc 'log'>   2.500565e-02 -9.532375e-13"
      ]
     },
     "execution_count": 155,
     "metadata": {},
     "output_type": "execute_result"
    }
   ],
   "source": [
    "muDifferences"
   ]
  },
  {
   "cell_type": "code",
   "execution_count": 144,
   "id": "0e2ed280",
   "metadata": {
    "deletable": false,
    "editable": false,
    "run_control": {
     "frozen": true
    }
   },
   "outputs": [
    {
     "data": {
      "text/html": [
       "<div>\n",
       "<style scoped>\n",
       "    .dataframe tbody tr th:only-of-type {\n",
       "        vertical-align: middle;\n",
       "    }\n",
       "\n",
       "    .dataframe tbody tr th {\n",
       "        vertical-align: top;\n",
       "    }\n",
       "\n",
       "    .dataframe thead th {\n",
       "        text-align: right;\n",
       "    }\n",
       "</style>\n",
       "<table border=\"1\" class=\"dataframe\">\n",
       "  <thead>\n",
       "    <tr style=\"text-align: right;\">\n",
       "      <th></th>\n",
       "      <th>sigma</th>\n",
       "      <th>util</th>\n",
       "      <th>p</th>\n",
       "      <th>diff</th>\n",
       "    </tr>\n",
       "  </thead>\n",
       "  <tbody>\n",
       "    <tr>\n",
       "      <th>0</th>\n",
       "      <td>0.100000</td>\n",
       "      <td>&lt;ufunc 'sqrt'&gt;</td>\n",
       "      <td>1.754497e-01</td>\n",
       "      <td>1.347948e-10</td>\n",
       "    </tr>\n",
       "    <tr>\n",
       "      <th>1</th>\n",
       "      <td>0.100000</td>\n",
       "      <td>&lt;ufunc 'log'&gt;</td>\n",
       "      <td>1.234404e-02</td>\n",
       "      <td>-1.931788e-13</td>\n",
       "    </tr>\n",
       "    <tr>\n",
       "      <th>2</th>\n",
       "      <td>0.129155</td>\n",
       "      <td>&lt;ufunc 'sqrt'&gt;</td>\n",
       "      <td>2.602750e-02</td>\n",
       "      <td>-1.938449e-13</td>\n",
       "    </tr>\n",
       "    <tr>\n",
       "      <th>3</th>\n",
       "      <td>0.129155</td>\n",
       "      <td>&lt;ufunc 'log'&gt;</td>\n",
       "      <td>1.704846e-04</td>\n",
       "      <td>-3.885781e-15</td>\n",
       "    </tr>\n",
       "    <tr>\n",
       "      <th>4</th>\n",
       "      <td>0.166810</td>\n",
       "      <td>&lt;ufunc 'sqrt'&gt;</td>\n",
       "      <td>8.818402e-02</td>\n",
       "      <td>-7.993606e-15</td>\n",
       "    </tr>\n",
       "    <tr>\n",
       "      <th>5</th>\n",
       "      <td>0.166810</td>\n",
       "      <td>&lt;ufunc 'log'&gt;</td>\n",
       "      <td>8.567265e-01</td>\n",
       "      <td>1.166584e-04</td>\n",
       "    </tr>\n",
       "    <tr>\n",
       "      <th>6</th>\n",
       "      <td>0.215443</td>\n",
       "      <td>&lt;ufunc 'sqrt'&gt;</td>\n",
       "      <td>6.106401e-02</td>\n",
       "      <td>-1.673284e-03</td>\n",
       "    </tr>\n",
       "    <tr>\n",
       "      <th>7</th>\n",
       "      <td>0.215443</td>\n",
       "      <td>&lt;ufunc 'log'&gt;</td>\n",
       "      <td>5.022880e-01</td>\n",
       "      <td>3.323196e-04</td>\n",
       "    </tr>\n",
       "    <tr>\n",
       "      <th>8</th>\n",
       "      <td>0.278256</td>\n",
       "      <td>&lt;ufunc 'sqrt'&gt;</td>\n",
       "      <td>3.209623e-54</td>\n",
       "      <td>1.631573e-02</td>\n",
       "    </tr>\n",
       "    <tr>\n",
       "      <th>9</th>\n",
       "      <td>0.278256</td>\n",
       "      <td>&lt;ufunc 'log'&gt;</td>\n",
       "      <td>5.088905e-05</td>\n",
       "      <td>1.539331e-03</td>\n",
       "    </tr>\n",
       "    <tr>\n",
       "      <th>10</th>\n",
       "      <td>0.359381</td>\n",
       "      <td>&lt;ufunc 'sqrt'&gt;</td>\n",
       "      <td>2.004783e-01</td>\n",
       "      <td>7.183594e-04</td>\n",
       "    </tr>\n",
       "    <tr>\n",
       "      <th>11</th>\n",
       "      <td>0.359381</td>\n",
       "      <td>&lt;ufunc 'log'&gt;</td>\n",
       "      <td>1.570255e-01</td>\n",
       "      <td>3.909669e-04</td>\n",
       "    </tr>\n",
       "    <tr>\n",
       "      <th>12</th>\n",
       "      <td>0.464159</td>\n",
       "      <td>&lt;ufunc 'sqrt'&gt;</td>\n",
       "      <td>6.284182e-01</td>\n",
       "      <td>-2.086768e-04</td>\n",
       "    </tr>\n",
       "    <tr>\n",
       "      <th>13</th>\n",
       "      <td>0.464159</td>\n",
       "      <td>&lt;ufunc 'log'&gt;</td>\n",
       "      <td>3.417161e-01</td>\n",
       "      <td>-1.972380e-04</td>\n",
       "    </tr>\n",
       "    <tr>\n",
       "      <th>14</th>\n",
       "      <td>0.599484</td>\n",
       "      <td>&lt;ufunc 'sqrt'&gt;</td>\n",
       "      <td>6.193540e-12</td>\n",
       "      <td>-2.397172e-03</td>\n",
       "    </tr>\n",
       "    <tr>\n",
       "      <th>15</th>\n",
       "      <td>0.599484</td>\n",
       "      <td>&lt;ufunc 'log'&gt;</td>\n",
       "      <td>7.993333e-01</td>\n",
       "      <td>-4.482557e-05</td>\n",
       "    </tr>\n",
       "    <tr>\n",
       "      <th>16</th>\n",
       "      <td>0.774264</td>\n",
       "      <td>&lt;ufunc 'sqrt'&gt;</td>\n",
       "      <td>1.546557e-01</td>\n",
       "      <td>-3.412211e-04</td>\n",
       "    </tr>\n",
       "    <tr>\n",
       "      <th>17</th>\n",
       "      <td>0.774264</td>\n",
       "      <td>&lt;ufunc 'log'&gt;</td>\n",
       "      <td>5.746340e-18</td>\n",
       "      <td>1.489078e-01</td>\n",
       "    </tr>\n",
       "    <tr>\n",
       "      <th>18</th>\n",
       "      <td>1.000000</td>\n",
       "      <td>&lt;ufunc 'sqrt'&gt;</td>\n",
       "      <td>6.494612e-01</td>\n",
       "      <td>7.945506e-05</td>\n",
       "    </tr>\n",
       "    <tr>\n",
       "      <th>19</th>\n",
       "      <td>1.000000</td>\n",
       "      <td>&lt;ufunc 'log'&gt;</td>\n",
       "      <td>8.743681e-48</td>\n",
       "      <td>3.190381e-01</td>\n",
       "    </tr>\n",
       "  </tbody>\n",
       "</table>\n",
       "</div>"
      ],
      "text/plain": [
       "       sigma            util             p          diff\n",
       "0   0.100000  <ufunc 'sqrt'>  1.754497e-01  1.347948e-10\n",
       "1   0.100000   <ufunc 'log'>  1.234404e-02 -1.931788e-13\n",
       "2   0.129155  <ufunc 'sqrt'>  2.602750e-02 -1.938449e-13\n",
       "3   0.129155   <ufunc 'log'>  1.704846e-04 -3.885781e-15\n",
       "4   0.166810  <ufunc 'sqrt'>  8.818402e-02 -7.993606e-15\n",
       "5   0.166810   <ufunc 'log'>  8.567265e-01  1.166584e-04\n",
       "6   0.215443  <ufunc 'sqrt'>  6.106401e-02 -1.673284e-03\n",
       "7   0.215443   <ufunc 'log'>  5.022880e-01  3.323196e-04\n",
       "8   0.278256  <ufunc 'sqrt'>  3.209623e-54  1.631573e-02\n",
       "9   0.278256   <ufunc 'log'>  5.088905e-05  1.539331e-03\n",
       "10  0.359381  <ufunc 'sqrt'>  2.004783e-01  7.183594e-04\n",
       "11  0.359381   <ufunc 'log'>  1.570255e-01  3.909669e-04\n",
       "12  0.464159  <ufunc 'sqrt'>  6.284182e-01 -2.086768e-04\n",
       "13  0.464159   <ufunc 'log'>  3.417161e-01 -1.972380e-04\n",
       "14  0.599484  <ufunc 'sqrt'>  6.193540e-12 -2.397172e-03\n",
       "15  0.599484   <ufunc 'log'>  7.993333e-01 -4.482557e-05\n",
       "16  0.774264  <ufunc 'sqrt'>  1.546557e-01 -3.412211e-04\n",
       "17  0.774264   <ufunc 'log'>  5.746340e-18  1.489078e-01\n",
       "18  1.000000  <ufunc 'sqrt'>  6.494612e-01  7.945506e-05\n",
       "19  1.000000   <ufunc 'log'>  8.743681e-48  3.190381e-01"
      ]
     },
     "execution_count": 144,
     "metadata": {},
     "output_type": "execute_result"
    }
   ],
   "source": [
    "sigmaDifferences"
   ]
  },
  {
   "cell_type": "markdown",
   "id": "21200b46",
   "metadata": {},
   "source": [
    "### Ok, this is not quite as clear of a signal as I was hoping for. \n",
    "\n",
    "Many of the results are, in fact, not significantly different, as you would hope. However, there are quite a few that are significantly different. \n",
    "\n",
    " - Of course, we are doing a lot of tests, so it is quite likely that some of the sampled p-values would be small.\n",
    " \n",
    " - It's also possible that the noise is non-Gaussian, impacting the test: it comes out of a maximization process, and the results are limited to the range [0,1] \n",
    " \n",
    "How to proceed?\n",
    "\n",
    " - Many of the differences, while significant, are small. In some sense, this sets a bound on the accuracy that we can expect from the learners."
   ]
  },
  {
   "cell_type": "markdown",
   "id": "e7f973be",
   "metadata": {},
   "source": [
    "### looking into the biggest differences"
   ]
  },
  {
   "cell_type": "code",
   "execution_count": 231,
   "id": "646bc374",
   "metadata": {},
   "outputs": [
    {
     "data": {
      "text/html": [
       "<div>\n",
       "<style scoped>\n",
       "    .dataframe tbody tr th:only-of-type {\n",
       "        vertical-align: middle;\n",
       "    }\n",
       "\n",
       "    .dataframe tbody tr th {\n",
       "        vertical-align: top;\n",
       "    }\n",
       "\n",
       "    .dataframe thead th {\n",
       "        text-align: right;\n",
       "    }\n",
       "</style>\n",
       "<table border=\"1\" class=\"dataframe\">\n",
       "  <thead>\n",
       "    <tr style=\"text-align: right;\">\n",
       "      <th></th>\n",
       "      <th>mu</th>\n",
       "      <th>util</th>\n",
       "      <th>p</th>\n",
       "      <th>diff</th>\n",
       "    </tr>\n",
       "  </thead>\n",
       "  <tbody>\n",
       "    <tr>\n",
       "      <th>0</th>\n",
       "      <td>0.001000</td>\n",
       "      <td>&lt;ufunc 'sqrt'&gt;</td>\n",
       "      <td>2.953693e-09</td>\n",
       "      <td>0.004892</td>\n",
       "    </tr>\n",
       "    <tr>\n",
       "      <th>2</th>\n",
       "      <td>0.001552</td>\n",
       "      <td>&lt;ufunc 'sqrt'&gt;</td>\n",
       "      <td>9.424027e-08</td>\n",
       "      <td>0.004665</td>\n",
       "    </tr>\n",
       "    <tr>\n",
       "      <th>4</th>\n",
       "      <td>0.002409</td>\n",
       "      <td>&lt;ufunc 'sqrt'&gt;</td>\n",
       "      <td>5.581269e-04</td>\n",
       "      <td>0.003049</td>\n",
       "    </tr>\n",
       "    <tr>\n",
       "      <th>6</th>\n",
       "      <td>0.003739</td>\n",
       "      <td>&lt;ufunc 'sqrt'&gt;</td>\n",
       "      <td>1.511952e-08</td>\n",
       "      <td>0.004609</td>\n",
       "    </tr>\n",
       "    <tr>\n",
       "      <th>7</th>\n",
       "      <td>0.003739</td>\n",
       "      <td>&lt;ufunc 'log'&gt;</td>\n",
       "      <td>1.662824e-23</td>\n",
       "      <td>0.004542</td>\n",
       "    </tr>\n",
       "    <tr>\n",
       "      <th>9</th>\n",
       "      <td>0.005803</td>\n",
       "      <td>&lt;ufunc 'log'&gt;</td>\n",
       "      <td>3.009851e-16</td>\n",
       "      <td>0.003519</td>\n",
       "    </tr>\n",
       "    <tr>\n",
       "      <th>12</th>\n",
       "      <td>0.013978</td>\n",
       "      <td>&lt;ufunc 'sqrt'&gt;</td>\n",
       "      <td>8.905024e-143</td>\n",
       "      <td>-0.052963</td>\n",
       "    </tr>\n",
       "    <tr>\n",
       "      <th>13</th>\n",
       "      <td>0.013978</td>\n",
       "      <td>&lt;ufunc 'log'&gt;</td>\n",
       "      <td>6.462781e-04</td>\n",
       "      <td>0.001383</td>\n",
       "    </tr>\n",
       "    <tr>\n",
       "      <th>19</th>\n",
       "      <td>0.052261</td>\n",
       "      <td>&lt;ufunc 'log'&gt;</td>\n",
       "      <td>1.397101e-04</td>\n",
       "      <td>-0.001645</td>\n",
       "    </tr>\n",
       "  </tbody>\n",
       "</table>\n",
       "</div>"
      ],
      "text/plain": [
       "          mu            util              p      diff\n",
       "0   0.001000  <ufunc 'sqrt'>   2.953693e-09  0.004892\n",
       "2   0.001552  <ufunc 'sqrt'>   9.424027e-08  0.004665\n",
       "4   0.002409  <ufunc 'sqrt'>   5.581269e-04  0.003049\n",
       "6   0.003739  <ufunc 'sqrt'>   1.511952e-08  0.004609\n",
       "7   0.003739   <ufunc 'log'>   1.662824e-23  0.004542\n",
       "9   0.005803   <ufunc 'log'>   3.009851e-16  0.003519\n",
       "12  0.013978  <ufunc 'sqrt'>  8.905024e-143 -0.052963\n",
       "13  0.013978   <ufunc 'log'>   6.462781e-04  0.001383\n",
       "19  0.052261   <ufunc 'log'>   1.397101e-04 -0.001645"
      ]
     },
     "execution_count": 231,
     "metadata": {},
     "output_type": "execute_result"
    }
   ],
   "source": [
    "muDifferences[ (muDifferences['diff'].abs() > 1E-3) & ((muDifferences.p) < 1E-3 )]"
   ]
  },
  {
   "cell_type": "code",
   "execution_count": 232,
   "id": "82c406cf",
   "metadata": {},
   "outputs": [
    {
     "data": {
      "text/html": [
       "<div>\n",
       "<style scoped>\n",
       "    .dataframe tbody tr th:only-of-type {\n",
       "        vertical-align: middle;\n",
       "    }\n",
       "\n",
       "    .dataframe tbody tr th {\n",
       "        vertical-align: top;\n",
       "    }\n",
       "\n",
       "    .dataframe thead th {\n",
       "        text-align: right;\n",
       "    }\n",
       "</style>\n",
       "<table border=\"1\" class=\"dataframe\">\n",
       "  <thead>\n",
       "    <tr style=\"text-align: right;\">\n",
       "      <th></th>\n",
       "      <th>sigma</th>\n",
       "      <th>util</th>\n",
       "      <th>p</th>\n",
       "      <th>diff</th>\n",
       "    </tr>\n",
       "  </thead>\n",
       "  <tbody>\n",
       "    <tr>\n",
       "      <th>8</th>\n",
       "      <td>0.278256</td>\n",
       "      <td>&lt;ufunc 'sqrt'&gt;</td>\n",
       "      <td>3.209623e-54</td>\n",
       "      <td>0.016316</td>\n",
       "    </tr>\n",
       "    <tr>\n",
       "      <th>9</th>\n",
       "      <td>0.278256</td>\n",
       "      <td>&lt;ufunc 'log'&gt;</td>\n",
       "      <td>5.088905e-05</td>\n",
       "      <td>0.001539</td>\n",
       "    </tr>\n",
       "    <tr>\n",
       "      <th>14</th>\n",
       "      <td>0.599484</td>\n",
       "      <td>&lt;ufunc 'sqrt'&gt;</td>\n",
       "      <td>6.193540e-12</td>\n",
       "      <td>-0.002397</td>\n",
       "    </tr>\n",
       "    <tr>\n",
       "      <th>17</th>\n",
       "      <td>0.774264</td>\n",
       "      <td>&lt;ufunc 'log'&gt;</td>\n",
       "      <td>5.746340e-18</td>\n",
       "      <td>0.148908</td>\n",
       "    </tr>\n",
       "    <tr>\n",
       "      <th>19</th>\n",
       "      <td>1.000000</td>\n",
       "      <td>&lt;ufunc 'log'&gt;</td>\n",
       "      <td>8.743681e-48</td>\n",
       "      <td>0.319038</td>\n",
       "    </tr>\n",
       "  </tbody>\n",
       "</table>\n",
       "</div>"
      ],
      "text/plain": [
       "       sigma            util             p      diff\n",
       "8   0.278256  <ufunc 'sqrt'>  3.209623e-54  0.016316\n",
       "9   0.278256   <ufunc 'log'>  5.088905e-05  0.001539\n",
       "14  0.599484  <ufunc 'sqrt'>  6.193540e-12 -0.002397\n",
       "17  0.774264   <ufunc 'log'>  5.746340e-18  0.148908\n",
       "19  1.000000   <ufunc 'log'>  8.743681e-48  0.319038"
      ]
     },
     "execution_count": 232,
     "metadata": {},
     "output_type": "execute_result"
    }
   ],
   "source": [
    "\n",
    "sigmaDifferences[ (sigmaDifferences['diff'].abs() > 1E-3) & (sigmaDifferences['p'] < 1E-3) ]"
   ]
  },
  {
   "cell_type": "markdown",
   "id": "edcf75e2",
   "metadata": {},
   "source": [
    "### Examples:"
   ]
  },
  {
   "cell_type": "code",
   "execution_count": 246,
   "id": "9b9ef286",
   "metadata": {},
   "outputs": [
    {
     "name": "stdout",
     "output_type": "stream",
     "text": [
      "determ:  0.5\n",
      "sampled:  0.43921456507622453\n"
     ]
    }
   ],
   "source": [
    "#1\n",
    "mu = 0.013978\n",
    "print('determ: ', findBestAction_determ(mu, 0.25, 1., np.sqrt).x[0] )\n",
    "print('sampled: ', findBestAction(mu, 0.25, 1., np.sqrt).x[0] )"
   ]
  },
  {
   "cell_type": "markdown",
   "id": "4c67e0d1",
   "metadata": {},
   "source": [
    "In this case, the deterministic optimizer appears to have failed, defaulting to the initial guess of 0.5"
   ]
  },
  {
   "cell_type": "code",
   "execution_count": 249,
   "id": "1a342071",
   "metadata": {},
   "outputs": [
    {
     "name": "stdout",
     "output_type": "stream",
     "text": [
      "determ:  0.05443446303651717\n",
      "sampled:  0.05943453148101547\n"
     ]
    }
   ],
   "source": [
    "# 2\n",
    "mu = 0.003739\n",
    "print('determ: ', findBestAction_determ(mu, 0.25, 1., np.log).x[0] )\n",
    "print('sampled: ', findBestAction(mu, 0.25, 1., np.log).x[0] )"
   ]
  },
  {
   "cell_type": "markdown",
   "id": "8cf984c0",
   "metadata": {},
   "source": [
    "I'm not sure about what happened here. "
   ]
  },
  {
   "cell_type": "code",
   "execution_count": 252,
   "id": "43be803a",
   "metadata": {},
   "outputs": [
    {
     "name": "stdout",
     "output_type": "stream",
     "text": [
      "determ:  0.01266463038128612\n",
      "sampled:  0.5\n"
     ]
    }
   ],
   "source": [
    "# 3\n",
    "sigma = 1.000000\n",
    "print('determ: ', findBestAction_determ(0.02, sigma, 1., np.log).x[0] )\n",
    "print('sampled: ', findBestAction(0.02, sigma, 1., np.log).x[0] )"
   ]
  },
  {
   "cell_type": "markdown",
   "id": "93db6b0a",
   "metadata": {},
   "source": [
    "Here, the optimizer failed in the reverse direction, for the sampled condition (at least some fraction of the time)"
   ]
  },
  {
   "cell_type": "code",
   "execution_count": 253,
   "id": "c9074445",
   "metadata": {},
   "outputs": [
    {
     "name": "stdout",
     "output_type": "stream",
     "text": [
      "determ:  0.025983048799755992\n",
      "sampled:  0.5\n"
     ]
    }
   ],
   "source": [
    "# 4\n",
    "sigma = 0.774264\n",
    "print('determ: ', findBestAction_determ(0.02, sigma, 1., np.log).x[0] )\n",
    "print('sampled: ', findBestAction(0.02, sigma, 1., np.log).x[0] )"
   ]
  },
  {
   "cell_type": "markdown",
   "id": "57ea1651",
   "metadata": {},
   "source": [
    "Same"
   ]
  },
  {
   "cell_type": "code",
   "execution_count": 257,
   "id": "5d4ddd1b",
   "metadata": {},
   "outputs": [
    {
     "name": "stdout",
     "output_type": "stream",
     "text": [
      "determ:  0.2539903784894446\n",
      "sampled:  0.25624318439353466\n"
     ]
    }
   ],
   "source": [
    "# 2\n",
    "sigma = 0.278256\n",
    "print('determ: ', findBestAction_determ(0.02, sigma, 1., np.log).x[0] )\n",
    "print('sampled: ', findBestAction(0.02, sigma, 1., np.log).x[0] )"
   ]
  },
  {
   "cell_type": "markdown",
   "id": "b627b5d4",
   "metadata": {},
   "source": [
    "Another example that is not easy to explain."
   ]
  },
  {
   "cell_type": "markdown",
   "id": "eda287b7",
   "metadata": {},
   "source": [
    "## Step 3: Moving on to the training\n",
    "\n",
    "These are important caveats to keep in mind. Especially the failure mode of the ground truth, but also the level of closeness that we can demand of the ground truth solution."
   ]
  },
  {
   "cell_type": "code",
   "execution_count": null,
   "id": "3f62bd1e",
   "metadata": {},
   "outputs": [],
   "source": []
  }
 ],
 "metadata": {
  "kernelspec": {
   "display_name": "Python 3",
   "language": "python",
   "name": "python3"
  },
  "language_info": {
   "codemirror_mode": {
    "name": "ipython",
    "version": 3
   },
   "file_extension": ".py",
   "mimetype": "text/x-python",
   "name": "python",
   "nbconvert_exporter": "python",
   "pygments_lexer": "ipython3",
   "version": "3.9.16"
  }
 },
 "nbformat": 4,
 "nbformat_minor": 5
}
